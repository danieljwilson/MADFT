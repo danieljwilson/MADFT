{
 "cells": [
  {
   "cell_type": "markdown",
   "metadata": {
    "toc": true
   },
   "source": [
    "<h1>Table of Contents<span class=\"tocSkip\"></span></h1>\n",
    "<div class=\"toc\"><ul class=\"toc-item\"><li><span><a href=\"#Multialternative-Dynamic-Decision-Process\" data-toc-modified-id=\"Multialternative-Dynamic-Decision-Process-1\"><span class=\"toc-item-num\">1&nbsp;&nbsp;</span>Multialternative Dynamic Decision Process</a></span><ul class=\"toc-item\"><li><span><a href=\"#Valences\" data-toc-modified-id=\"Valences-1.1\"><span class=\"toc-item-num\">1.1&nbsp;&nbsp;</span>Valences</a></span><ul class=\"toc-item\"><li><span><a href=\"#Personal-Evaluation\" data-toc-modified-id=\"Personal-Evaluation-1.1.1\"><span class=\"toc-item-num\">1.1.1&nbsp;&nbsp;</span>Personal Evaluation</a></span></li><li><span><a href=\"#Attention-Weight\" data-toc-modified-id=\"Attention-Weight-1.1.2\"><span class=\"toc-item-num\">1.1.2&nbsp;&nbsp;</span>Attention Weight</a></span></li><li><span><a href=\"#Comparison-Process\" data-toc-modified-id=\"Comparison-Process-1.1.3\"><span class=\"toc-item-num\">1.1.3&nbsp;&nbsp;</span>Comparison Process</a></span></li></ul></li><li><span><a href=\"#Preferences\" data-toc-modified-id=\"Preferences-1.2\"><span class=\"toc-item-num\">1.2&nbsp;&nbsp;</span>Preferences</a></span></li></ul></li></ul></div>"
   ]
  },
  {
   "cell_type": "markdown",
   "metadata": {},
   "source": [
    "---\n",
    "\n",
    "By: Daniel J Wilson\n",
    "Date: March 21, 2018\n",
    "\n",
    "Adapted from [Roe et al. 2001](https://www.ncbi.nlm.nih.gov/pubmed/11381834)\n",
    "\n",
    "---"
   ]
  },
  {
   "cell_type": "code",
   "execution_count": 12,
   "metadata": {
    "collapsed": true
   },
   "outputs": [],
   "source": [
    "import numpy as np\n",
    "import pandas as pd\n",
    "import random as random"
   ]
  },
  {
   "cell_type": "markdown",
   "metadata": {},
   "source": [
    "# Multialternative Dynamic Decision Process\n",
    "\n",
    "---\n",
    "\n",
    "* Sequential Sampling Model\n",
    "* Extends application of earlier models to multialternative preferential choice"
   ]
  },
  {
   "cell_type": "markdown",
   "metadata": {},
   "source": [
    "## Valences\n",
    "\n",
    "---\n",
    "\n",
    "At any moment in time, each alternative in the choice set is associated with a valence value"
   ]
  },
  {
   "cell_type": "markdown",
   "metadata": {},
   "source": [
    "---\n",
    "\n",
    "The valence of option *i* at time *t* is written as:\n",
    "\n",
    "$$v_i(t)$$\n",
    "\n",
    "This represents the **value** of option *i* at time *t*.\n",
    "\n",
    "---\n",
    "\n",
    "The ordered set of **valences** for all options is written as:\n",
    "\n",
    "$$\\vec V$$\n",
    "\n",
    "---\n",
    "\n",
    "**EXAMPLE**\n",
    "\n",
    "Three alternatives, A, B and C = set {A, B, C}\n",
    "\n",
    "This would be represented by the vector:\n",
    "\n",
    "$$\\vec V (t) = [v_a(t), v_b(t), v_c(t)]'$$"
   ]
  },
  {
   "cell_type": "markdown",
   "metadata": {
    "collapsed": true
   },
   "source": [
    "---\n",
    "\n",
    "**Valence** of each **option** consists of THREE components:\n",
    "\n",
    "1. Personal evaluation\n",
    "\n",
    "2. Attention weight\n",
    "\n",
    "3. Comparison Process"
   ]
  },
  {
   "cell_type": "markdown",
   "metadata": {},
   "source": [
    "### Personal Evaluation\n",
    "\n",
    "---\n",
    "\n",
    "Subjective value of a given attribute on a single option"
   ]
  },
  {
   "cell_type": "markdown",
   "metadata": {},
   "source": [
    "---\n",
    "\n",
    "$$m_{ij}$$\n",
    "\n",
    "Where $m_{ij}$ denotes the subjective value of **option** $i$ on **attribute** $j$\n",
    "\n",
    "---\n",
    "\n",
    "**EXAMPLE**\n",
    "\n",
    "Three cars (options): $\\vec M = [m_A, m_B, m_C]'$ \n",
    "\n",
    "Being considered on the attributes of:\n",
    "\n",
    "ECONOMY: $\\vec M_E = [m_{AE}, m_{BE}, m_{CE}]'$\n",
    "\n",
    "QUALITY: $\\vec Q_E = [m_{AQ}, m_{BQ}, m_{CQ}]'$\n",
    "\n",
    "---"
   ]
  },
  {
   "cell_type": "code",
   "execution_count": 122,
   "metadata": {},
   "outputs": [],
   "source": [
    "# Create Dataframe with example options\n",
    "\n",
    "cars = np.array([['', 'Economy', 'Quality'],\n",
    "                ['Car_A', 2, 9],\n",
    "                ['Car_B', 3, 7],\n",
    "                ['Car_C', 8, 4],\n",
    "                ])\n",
    "\n",
    "M = (pd.DataFrame(data=cars[1:,1:],\n",
    "                  index=cars[1:,0],\n",
    "                  columns=cars[0,1:]))\n",
    "\n",
    "# make sure things are numeric for later\n",
    "M.Economy = pd.to_numeric(M.Economy)\n",
    "M.Quality = pd.to_numeric(M.Quality)"
   ]
  },
  {
   "cell_type": "markdown",
   "metadata": {},
   "source": [
    "---\n",
    "\n",
    "**PERSONAL EVALUATION VECTOR**\n",
    "\n",
    "These vectors join to produce a 3 x 2 value matrix:\n",
    "\n",
    "$$\\vec M = [\\vec M_E|\\vec M_Q]$$\n",
    "\n",
    "---"
   ]
  },
  {
   "cell_type": "code",
   "execution_count": 123,
   "metadata": {},
   "outputs": [
    {
     "data": {
      "text/html": [
       "<div>\n",
       "<style scoped>\n",
       "    .dataframe tbody tr th:only-of-type {\n",
       "        vertical-align: middle;\n",
       "    }\n",
       "\n",
       "    .dataframe tbody tr th {\n",
       "        vertical-align: top;\n",
       "    }\n",
       "\n",
       "    .dataframe thead th {\n",
       "        text-align: right;\n",
       "    }\n",
       "</style>\n",
       "<table border=\"1\" class=\"dataframe\">\n",
       "  <thead>\n",
       "    <tr style=\"text-align: right;\">\n",
       "      <th></th>\n",
       "      <th>Economy</th>\n",
       "      <th>Quality</th>\n",
       "    </tr>\n",
       "  </thead>\n",
       "  <tbody>\n",
       "    <tr>\n",
       "      <th>Car_A</th>\n",
       "      <td>2</td>\n",
       "      <td>9</td>\n",
       "    </tr>\n",
       "    <tr>\n",
       "      <th>Car_B</th>\n",
       "      <td>3</td>\n",
       "      <td>7</td>\n",
       "    </tr>\n",
       "    <tr>\n",
       "      <th>Car_C</th>\n",
       "      <td>8</td>\n",
       "      <td>4</td>\n",
       "    </tr>\n",
       "  </tbody>\n",
       "</table>\n",
       "</div>"
      ],
      "text/plain": [
       "       Economy  Quality\n",
       "Car_A        2        9\n",
       "Car_B        3        7\n",
       "Car_C        8        4"
      ]
     },
     "execution_count": 123,
     "metadata": {},
     "output_type": "execute_result"
    }
   ],
   "source": [
    "# View Dataframe/matrix\n",
    "\n",
    "M"
   ]
  },
  {
   "cell_type": "markdown",
   "metadata": {},
   "source": [
    "### Attention Weight\n",
    "\n",
    "---\n",
    "\n",
    "Attention given to each attribute (can vary from moment to moment)"
   ]
  },
  {
   "cell_type": "markdown",
   "metadata": {},
   "source": [
    "---\n",
    "\n",
    "$$W_{j}$$\n",
    "\n",
    "Where $W_{j}(t)$ denotes the meomentary attention on **attribute** $j$ at **time** $t$.\n",
    "\n",
    "---\n",
    "\n",
    "**QUESTION**\n",
    "\n",
    "Why not:\n",
    "\n",
    "$$w_{ij}(t)$$\n",
    "\n",
    "Where $w_{ij}(t)$ denotes the momentary attention of **option** $i$ on **attribute** $j$ at **time** $t$?\n",
    "\n",
    "---\n",
    "\n",
    "**ASSUMPTION**\n",
    "\n",
    "Attention shifts in an all or nothing manner from one attribute at one moment:\n",
    "\n",
    "$$W_Q(t) = 1, W_E(t) = 0$$\n",
    "\n",
    "to another attribute at another moment:\n",
    "\n",
    "$$W_Q(t) = 0, W_E(t) = 1$$\n",
    "\n",
    "---\n",
    "\n",
    "**ATTENTION PROBABILITY**\n",
    "\n",
    "In the car example the probability of attending to the *economy* attribute is: $w_E$\n",
    "\n",
    "The probability of attending to the *quality* attribute is: $w_Q$\n",
    "\n",
    "---\n",
    "\n",
    "**ATTENTION WEIGHT VECTOR**\n",
    "\n",
    "Attention weights for all attributes at a given time make a **weight vector**:\n",
    "\n",
    "$$\\vec W(t)$$\n",
    "\n",
    "In the car example the weight vector is two-dimensional:\n",
    "\n",
    "$$\\vec W(t) = [W_E(t)W_Q(t)]'$$\n",
    "\n",
    "---"
   ]
  },
  {
   "cell_type": "code",
   "execution_count": 53,
   "metadata": {
    "scrolled": true
   },
   "outputs": [
    {
     "data": {
      "text/html": [
       "<div>\n",
       "<style scoped>\n",
       "    .dataframe tbody tr th:only-of-type {\n",
       "        vertical-align: middle;\n",
       "    }\n",
       "\n",
       "    .dataframe tbody tr th {\n",
       "        vertical-align: top;\n",
       "    }\n",
       "\n",
       "    .dataframe thead th {\n",
       "        text-align: right;\n",
       "    }\n",
       "</style>\n",
       "<table border=\"1\" class=\"dataframe\">\n",
       "  <thead>\n",
       "    <tr style=\"text-align: right;\">\n",
       "      <th></th>\n",
       "      <th>Economy</th>\n",
       "      <th>Quality</th>\n",
       "    </tr>\n",
       "  </thead>\n",
       "  <tbody>\n",
       "    <tr>\n",
       "      <th>0</th>\n",
       "      <td>1</td>\n",
       "      <td>0</td>\n",
       "    </tr>\n",
       "    <tr>\n",
       "      <th>1</th>\n",
       "      <td>0</td>\n",
       "      <td>1</td>\n",
       "    </tr>\n",
       "    <tr>\n",
       "      <th>2</th>\n",
       "      <td>0</td>\n",
       "      <td>1</td>\n",
       "    </tr>\n",
       "    <tr>\n",
       "      <th>3</th>\n",
       "      <td>0</td>\n",
       "      <td>1</td>\n",
       "    </tr>\n",
       "    <tr>\n",
       "      <th>4</th>\n",
       "      <td>1</td>\n",
       "      <td>0</td>\n",
       "    </tr>\n",
       "    <tr>\n",
       "      <th>5</th>\n",
       "      <td>0</td>\n",
       "      <td>1</td>\n",
       "    </tr>\n",
       "    <tr>\n",
       "      <th>6</th>\n",
       "      <td>1</td>\n",
       "      <td>0</td>\n",
       "    </tr>\n",
       "    <tr>\n",
       "      <th>7</th>\n",
       "      <td>1</td>\n",
       "      <td>0</td>\n",
       "    </tr>\n",
       "    <tr>\n",
       "      <th>8</th>\n",
       "      <td>1</td>\n",
       "      <td>0</td>\n",
       "    </tr>\n",
       "    <tr>\n",
       "      <th>9</th>\n",
       "      <td>1</td>\n",
       "      <td>0</td>\n",
       "    </tr>\n",
       "  </tbody>\n",
       "</table>\n",
       "</div>"
      ],
      "text/plain": [
       "   Economy  Quality\n",
       "0        1        0\n",
       "1        0        1\n",
       "2        0        1\n",
       "3        0        1\n",
       "4        1        0\n",
       "5        0        1\n",
       "6        1        0\n",
       "7        1        0\n",
       "8        1        0\n",
       "9        1        0"
      ]
     },
     "execution_count": 53,
     "metadata": {},
     "output_type": "execute_result"
    }
   ],
   "source": [
    "# Lets create some arbitrary weights then...\n",
    "\n",
    "# Economy weight for 10 time points\n",
    "W_E = np.random.randint(2, size=(10))\n",
    "\n",
    "# Quality weight for 10 time points\n",
    "W_Q = abs(W_E - 1)\n",
    "\n",
    "# Create a numpy array from these two vectors\n",
    "weights = np.array([W_E, W_Q]).T\n",
    "\n",
    "# Convert the array into a pandas Dataframe\n",
    "W = (pd.DataFrame(data=weights,\n",
    "                           columns = ['Economy', 'Quality']\n",
    "                          ))\n",
    "\n",
    "# Take a look (this will be different every time you run it due to the random function)\n",
    "W"
   ]
  },
  {
   "cell_type": "markdown",
   "metadata": {},
   "source": [
    "---\n",
    "\n",
    "**WEIGHTED VALUE**\n",
    "\n",
    "The weighted value is the matrix product of weights and values:\n",
    "\n",
    "$$\\vec M\\vec W(t)$$\n",
    "\n",
    "---"
   ]
  },
  {
   "cell_type": "code",
   "execution_count": 97,
   "metadata": {},
   "outputs": [],
   "source": [
    "t = 3\n",
    "W_t = np.ones((3,2), dtype = int) * np.array([W.iloc[t]])"
   ]
  },
  {
   "cell_type": "code",
   "execution_count": 98,
   "metadata": {},
   "outputs": [
    {
     "data": {
      "text/plain": [
       "array([[0, 1],\n",
       "       [0, 1],\n",
       "       [0, 1]])"
      ]
     },
     "execution_count": 98,
     "metadata": {},
     "output_type": "execute_result"
    }
   ],
   "source": [
    "W_t"
   ]
  },
  {
   "cell_type": "code",
   "execution_count": 124,
   "metadata": {},
   "outputs": [
    {
     "data": {
      "text/html": [
       "<div>\n",
       "<style scoped>\n",
       "    .dataframe tbody tr th:only-of-type {\n",
       "        vertical-align: middle;\n",
       "    }\n",
       "\n",
       "    .dataframe tbody tr th {\n",
       "        vertical-align: top;\n",
       "    }\n",
       "\n",
       "    .dataframe thead th {\n",
       "        text-align: right;\n",
       "    }\n",
       "</style>\n",
       "<table border=\"1\" class=\"dataframe\">\n",
       "  <thead>\n",
       "    <tr style=\"text-align: right;\">\n",
       "      <th></th>\n",
       "      <th>Economy</th>\n",
       "      <th>Quality</th>\n",
       "    </tr>\n",
       "  </thead>\n",
       "  <tbody>\n",
       "    <tr>\n",
       "      <th>Car_A</th>\n",
       "      <td>0</td>\n",
       "      <td>9</td>\n",
       "    </tr>\n",
       "    <tr>\n",
       "      <th>Car_B</th>\n",
       "      <td>0</td>\n",
       "      <td>7</td>\n",
       "    </tr>\n",
       "    <tr>\n",
       "      <th>Car_C</th>\n",
       "      <td>0</td>\n",
       "      <td>4</td>\n",
       "    </tr>\n",
       "  </tbody>\n",
       "</table>\n",
       "</div>"
      ],
      "text/plain": [
       "       Economy  Quality\n",
       "Car_A        0        9\n",
       "Car_B        0        7\n",
       "Car_C        0        4"
      ]
     },
     "execution_count": 124,
     "metadata": {},
     "output_type": "execute_result"
    }
   ],
   "source": [
    "M * W_t"
   ]
  },
  {
   "cell_type": "markdown",
   "metadata": {},
   "source": [
    "---\n",
    "\n",
    "**EXAMPLE**\n",
    "\n",
    "When choosing among three cars, the $i$th row is:\n",
    "\n",
    "$$\\vec M\\vec W(t) = W_E(t)m_{iE} + W_Q(t)m_{iQ}$$\n",
    "\n",
    "---\n",
    "\n",
    "**NOTE**\n",
    "\n",
    "Unlike the classic weighted utility model, the weighted values are **stochastic** because of fluctuations in the attention weights (in this example $W_E(t)$ and $W_Q(t)$\n",
    "\n",
    "---"
   ]
  },
  {
   "cell_type": "markdown",
   "metadata": {},
   "source": [
    "### Comparison Process\n",
    "\n",
    "---\n",
    "\n",
    "Contrasts the weighted evaluations of each option"
   ]
  },
  {
   "cell_type": "markdown",
   "metadata": {},
   "source": [
    "---\n",
    "\n",
    "**GENERAL CONCEPT**\n",
    "\n",
    "Valence of each option is produced by contrasting the weighted value of one alternative against the average of all the others.\n",
    "\n",
    "---\n",
    "\n",
    "**EXAMPLE**\n",
    "\n",
    "Three alternatives (cars): {A, B, C}\n",
    "\n",
    "Valence for option A:\n",
    "\n",
    "$$v_A(t) = W_E(t)m_{AE} + W_Q(t)m_{AQ} - [W_E(t)m_{BE} + W_Q(t)m_{BQ} + W_E(t)m_{CE} + W_Q(t)m_{CQ}]/2$$\n",
    "\n",
    "---"
   ]
  },
  {
   "cell_type": "code",
   "execution_count": null,
   "metadata": {
    "collapsed": true
   },
   "outputs": [],
   "source": [
    "# Lets set "
   ]
  },
  {
   "cell_type": "markdown",
   "metadata": {},
   "source": [
    "---\n",
    "**CONTRAST MATRIX**\n",
    "\n",
    "$$\\vec C= \\begin{bmatrix}\n",
    "    1 & -\\frac{1}{2} & -\\frac{1}{2}\\\\\n",
    "    -\\frac{1}{2} & 1 & -\\frac{1}{2}\\\\\n",
    "    -\\frac{1}{2} & -\\frac{1}{2} & 1\n",
    "\\end{bmatrix}$$\n",
    "\n",
    "---\n",
    "\n",
    "**VALENCE VECTOR**\n",
    "\n",
    "$$\\vec V(t) = \\vec C\\vec M\\vec W(t)$$\n",
    "\n",
    "This equation can be used for ***any*** number of *alternatives* and *attributes*.\n",
    "\n",
    "---\n",
    "\n",
    "**NOISE**\n",
    "\n",
    "The authors assume that most choices often involve **primary** and **secondary** (irrelevant) attributes.\n",
    "\n",
    "Under this assumption they divide a $p$-dimensional attention weight vector into two components:\n",
    "\n",
    "$$\\vec W(t)' = [\\vec W_1(t)', \\vec W_2(t)']$$ \n",
    "\n",
    "$\\vec W_1(t)$ = **primary** dimensions/attributes ($q$-dimensional)\n",
    "\n",
    "$\\vec W_2(t)$ = **secondary/irrelevant** dimensions/attributes ($p-q$-dimensional)\n",
    "\n",
    "This means the **Valence Vector** can be rewritten to:\n",
    "\n",
    "$$\\vec V(t) = \\vec C\\vec M\\vec W(t) = \\vec C\\vec M_1\\vec W_1(t) + \\epsilon(t)$$\n",
    "\n",
    "$\\epsilon(t) = \\vec C\\vec M_2\\vec W_2(t)$ and can be treated as a stochastic error or residual term.\n",
    "\n",
    "---"
   ]
  },
  {
   "cell_type": "markdown",
   "metadata": {},
   "source": [
    "## Preferences"
   ]
  },
  {
   "cell_type": "markdown",
   "metadata": {},
   "source": []
  },
  {
   "cell_type": "code",
   "execution_count": null,
   "metadata": {
    "collapsed": true
   },
   "outputs": [],
   "source": []
  },
  {
   "cell_type": "code",
   "execution_count": null,
   "metadata": {
    "collapsed": true
   },
   "outputs": [],
   "source": []
  },
  {
   "cell_type": "code",
   "execution_count": null,
   "metadata": {
    "collapsed": true
   },
   "outputs": [],
   "source": []
  },
  {
   "cell_type": "code",
   "execution_count": null,
   "metadata": {
    "collapsed": true
   },
   "outputs": [],
   "source": []
  },
  {
   "cell_type": "code",
   "execution_count": null,
   "metadata": {
    "collapsed": true
   },
   "outputs": [],
   "source": []
  },
  {
   "cell_type": "code",
   "execution_count": null,
   "metadata": {
    "collapsed": true
   },
   "outputs": [],
   "source": []
  },
  {
   "cell_type": "code",
   "execution_count": null,
   "metadata": {
    "collapsed": true
   },
   "outputs": [],
   "source": []
  },
  {
   "cell_type": "code",
   "execution_count": null,
   "metadata": {
    "collapsed": true
   },
   "outputs": [],
   "source": []
  },
  {
   "cell_type": "code",
   "execution_count": null,
   "metadata": {
    "collapsed": true
   },
   "outputs": [],
   "source": []
  },
  {
   "cell_type": "code",
   "execution_count": null,
   "metadata": {
    "collapsed": true
   },
   "outputs": [],
   "source": []
  },
  {
   "cell_type": "code",
   "execution_count": null,
   "metadata": {
    "collapsed": true
   },
   "outputs": [],
   "source": []
  },
  {
   "cell_type": "code",
   "execution_count": null,
   "metadata": {
    "collapsed": true
   },
   "outputs": [],
   "source": []
  },
  {
   "cell_type": "code",
   "execution_count": null,
   "metadata": {
    "collapsed": true
   },
   "outputs": [],
   "source": []
  },
  {
   "cell_type": "code",
   "execution_count": null,
   "metadata": {
    "collapsed": true
   },
   "outputs": [],
   "source": []
  },
  {
   "cell_type": "code",
   "execution_count": null,
   "metadata": {
    "collapsed": true
   },
   "outputs": [],
   "source": []
  },
  {
   "cell_type": "code",
   "execution_count": null,
   "metadata": {
    "collapsed": true
   },
   "outputs": [],
   "source": []
  },
  {
   "cell_type": "code",
   "execution_count": null,
   "metadata": {
    "collapsed": true
   },
   "outputs": [],
   "source": []
  },
  {
   "cell_type": "code",
   "execution_count": null,
   "metadata": {
    "collapsed": true
   },
   "outputs": [],
   "source": []
  }
 ],
 "metadata": {
  "kernelspec": {
   "display_name": "Python [conda env:python3]",
   "language": "python",
   "name": "conda-env-python3-py"
  },
  "language_info": {
   "codemirror_mode": {
    "name": "ipython",
    "version": 3
   },
   "file_extension": ".py",
   "mimetype": "text/x-python",
   "name": "python",
   "nbconvert_exporter": "python",
   "pygments_lexer": "ipython3",
   "version": "3.6.1"
  },
  "toc": {
   "nav_menu": {},
   "number_sections": true,
   "sideBar": false,
   "skip_h1_title": false,
   "title_cell": "Table of Contents",
   "title_sidebar": "Contents",
   "toc_cell": true,
   "toc_position": {
    "height": "173px",
    "left": "875px",
    "top": "106.5px",
    "width": "205px"
   },
   "toc_section_display": false,
   "toc_window_display": true
  }
 },
 "nbformat": 4,
 "nbformat_minor": 2
}
