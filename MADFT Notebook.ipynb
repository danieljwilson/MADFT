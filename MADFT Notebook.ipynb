{
 "cells": [
  {
   "cell_type": "markdown",
   "metadata": {
    "toc": true
   },
   "source": [
    "<h1>Table of Contents<span class=\"tocSkip\"></span></h1>\n",
    "<div class=\"toc\"><ul class=\"toc-item\"><li><span><a href=\"#Multialternative-Dynamic-Decision-Process\" data-toc-modified-id=\"Multialternative-Dynamic-Decision-Process-1\"><span class=\"toc-item-num\">1&nbsp;&nbsp;</span>Multialternative Dynamic Decision Process</a></span><ul class=\"toc-item\"><li><span><a href=\"#Valences-$\\vec-V(t)$\" data-toc-modified-id=\"Valences-$\\vec-V(t)$-1.1\"><span class=\"toc-item-num\">1.1&nbsp;&nbsp;</span>Valences $\\vec V(t)$</a></span><ul class=\"toc-item\"><li><span><a href=\"#Personal-Evaluation\" data-toc-modified-id=\"Personal-Evaluation-1.1.1\"><span class=\"toc-item-num\">1.1.1&nbsp;&nbsp;</span>Personal Evaluation</a></span></li><li><span><a href=\"#Attention-Weight\" data-toc-modified-id=\"Attention-Weight-1.1.2\"><span class=\"toc-item-num\">1.1.2&nbsp;&nbsp;</span>Attention Weight</a></span></li><li><span><a href=\"#Comparison-Process\" data-toc-modified-id=\"Comparison-Process-1.1.3\"><span class=\"toc-item-num\">1.1.3&nbsp;&nbsp;</span>Comparison Process</a></span></li></ul></li><li><span><a href=\"#Preferences-$\\vec-P(t)$\" data-toc-modified-id=\"Preferences-$\\vec-P(t)$-1.2\"><span class=\"toc-item-num\">1.2&nbsp;&nbsp;</span>Preferences $\\vec P(t)$</a></span></li><li><span><a href=\"#Initial-Preference-State-$\\vec-P(0)$\" data-toc-modified-id=\"Initial-Preference-State-$\\vec-P(0)$-1.3\"><span class=\"toc-item-num\">1.3&nbsp;&nbsp;</span>Initial Preference State $\\vec P(0)$</a></span></li><li><span><a href=\"#Feedback-Matrix-$\\vec-S$\" data-toc-modified-id=\"Feedback-Matrix-$\\vec-S$-1.4\"><span class=\"toc-item-num\">1.4&nbsp;&nbsp;</span>Feedback Matrix $\\vec S$</a></span></li><li><span><a href=\"#Parameter-Summary\" data-toc-modified-id=\"Parameter-Summary-1.5\"><span class=\"toc-item-num\">1.5&nbsp;&nbsp;</span>Parameter Summary</a></span></li></ul></li><li><span><a href=\"#MADFT-vs.-Other-Models\" data-toc-modified-id=\"MADFT-vs.-Other-Models-2\"><span class=\"toc-item-num\">2&nbsp;&nbsp;</span>MADFT vs. Other Models</a></span><ul class=\"toc-item\"><li><span><a href=\"#Multiattribute-Utility-Model\" data-toc-modified-id=\"Multiattribute-Utility-Model-2.1\"><span class=\"toc-item-num\">2.1&nbsp;&nbsp;</span>Multiattribute Utility Model</a></span></li><li><span><a href=\"#Dynamic-Thurstone-Model\" data-toc-modified-id=\"Dynamic-Thurstone-Model-2.2\"><span class=\"toc-item-num\">2.2&nbsp;&nbsp;</span>Dynamic Thurstone Model</a></span></li></ul></li><li><span><a href=\"#MADFT-IMPLEMENTATION\" data-toc-modified-id=\"MADFT-IMPLEMENTATION-3\"><span class=\"toc-item-num\">3&nbsp;&nbsp;</span>MADFT IMPLEMENTATION</a></span><ul class=\"toc-item\"><li><span><a href=\"#Similarity-Effect\" data-toc-modified-id=\"Similarity-Effect-3.1\"><span class=\"toc-item-num\">3.1&nbsp;&nbsp;</span>Similarity Effect</a></span></li></ul></li></ul></div>"
   ]
  },
  {
   "cell_type": "markdown",
   "metadata": {},
   "source": [
    "---\n",
    "\n",
    "By: Daniel J Wilson\n",
    "Date: March 21, 2018\n",
    "\n",
    "Adapted from [Roe et al. 2001](https://www.ncbi.nlm.nih.gov/pubmed/11381834)\n",
    "\n",
    "---"
   ]
  },
  {
   "cell_type": "markdown",
   "metadata": {},
   "source": [
    "**Import Libraries**"
   ]
  },
  {
   "cell_type": "code",
   "execution_count": 377,
   "metadata": {
    "collapsed": true
   },
   "outputs": [],
   "source": [
    "import numpy as np\n",
    "import pandas as pd\n",
    "import random as random\n",
    "import matplotlib.pyplot as plt\n",
    "import math\n",
    "from collections import Counter"
   ]
  },
  {
   "cell_type": "markdown",
   "metadata": {},
   "source": [
    "# Multialternative Dynamic Decision Process\n",
    "\n",
    "---\n",
    "\n",
    "* Sequential Sampling Model\n",
    "* Extends application of earlier models to multialternative preferential choice"
   ]
  },
  {
   "cell_type": "markdown",
   "metadata": {},
   "source": [
    "## Valences $\\vec V(t)$\n",
    "\n",
    "---\n",
    "\n",
    "At any moment in time, each alternative in the choice set is associated with a valence value"
   ]
  },
  {
   "cell_type": "markdown",
   "metadata": {},
   "source": [
    "---\n",
    "\n",
    "The valence of option *i* at time *t* is written as:\n",
    "\n",
    "$$v_i(t)$$\n",
    "\n",
    "This represents the **value** of option *i* at time *t*.\n",
    "\n",
    "---\n",
    "\n",
    "The ordered set of **valences** for all options is written as:\n",
    "\n",
    "$$\\vec V$$\n",
    "\n",
    "---\n",
    "\n",
    "**EXAMPLE**\n",
    "\n",
    "Three alternatives, A, B and C = set {A, B, C}\n",
    "\n",
    "This would be represented by the vector:\n",
    "\n",
    "$$\\vec V (t) = [v_a(t), v_b(t), v_c(t)]'$$"
   ]
  },
  {
   "cell_type": "markdown",
   "metadata": {
    "collapsed": true
   },
   "source": [
    "---\n",
    "\n",
    "**Valence** of each **option** consists of THREE components:\n",
    "\n",
    "1. Personal evaluation\n",
    "\n",
    "2. Attention weight\n",
    "\n",
    "3. Comparison Process"
   ]
  },
  {
   "cell_type": "markdown",
   "metadata": {},
   "source": [
    "### Personal Evaluation\n",
    "\n",
    "---\n",
    "\n",
    "Subjective value of a given attribute on a single option"
   ]
  },
  {
   "cell_type": "markdown",
   "metadata": {},
   "source": [
    "---\n",
    "\n",
    "$$m_{ij}$$\n",
    "\n",
    "Where $m_{ij}$ denotes the subjective value of **option** $i$ on **attribute** $j$\n",
    "\n",
    "---\n",
    "\n",
    "**EXAMPLE**\n",
    "\n",
    "Three cars (options): $\\vec M = [m_A, m_B, m_C]'$ \n",
    "\n",
    "Being considered on the attributes of:\n",
    "\n",
    "ECONOMY: $\\vec M_E = [m_{AE}, m_{BE}, m_{CE}]'$\n",
    "\n",
    "QUALITY: $\\vec Q_E = [m_{AQ}, m_{BQ}, m_{CQ}]'$\n",
    "\n",
    "---"
   ]
  },
  {
   "cell_type": "code",
   "execution_count": 378,
   "metadata": {
    "collapsed": true
   },
   "outputs": [],
   "source": [
    "# Create Dataframe with example options\n",
    "\n",
    "cars = np.array([['', 'Economy', 'Quality'],\n",
    "                ['Car_A', 2, 9],\n",
    "                ['Car_B', 3, 7],\n",
    "                ['Car_C', 8, 4],\n",
    "                ])\n",
    "\n",
    "M = (pd.DataFrame(data=cars[1:,1:],\n",
    "                  index=cars[1:,0],\n",
    "                  columns=cars[0,1:]))\n",
    "\n",
    "# make sure things are numeric for later\n",
    "M.Economy = pd.to_numeric(M.Economy)\n",
    "M.Quality = pd.to_numeric(M.Quality)"
   ]
  },
  {
   "cell_type": "markdown",
   "metadata": {},
   "source": [
    "---\n",
    "\n",
    "**PERSONAL EVALUATION VECTOR**\n",
    "\n",
    "These vectors join to produce a 3 x 2 value matrix:\n",
    "\n",
    "$$\\vec M = [\\vec M_E|\\vec M_Q]$$\n",
    "\n",
    "---"
   ]
  },
  {
   "cell_type": "code",
   "execution_count": 379,
   "metadata": {
    "scrolled": false
   },
   "outputs": [
    {
     "data": {
      "text/html": [
       "<div>\n",
       "<style scoped>\n",
       "    .dataframe tbody tr th:only-of-type {\n",
       "        vertical-align: middle;\n",
       "    }\n",
       "\n",
       "    .dataframe tbody tr th {\n",
       "        vertical-align: top;\n",
       "    }\n",
       "\n",
       "    .dataframe thead th {\n",
       "        text-align: right;\n",
       "    }\n",
       "</style>\n",
       "<table border=\"1\" class=\"dataframe\">\n",
       "  <thead>\n",
       "    <tr style=\"text-align: right;\">\n",
       "      <th></th>\n",
       "      <th>Economy</th>\n",
       "      <th>Quality</th>\n",
       "    </tr>\n",
       "  </thead>\n",
       "  <tbody>\n",
       "    <tr>\n",
       "      <th>Car_A</th>\n",
       "      <td>2</td>\n",
       "      <td>9</td>\n",
       "    </tr>\n",
       "    <tr>\n",
       "      <th>Car_B</th>\n",
       "      <td>3</td>\n",
       "      <td>7</td>\n",
       "    </tr>\n",
       "    <tr>\n",
       "      <th>Car_C</th>\n",
       "      <td>8</td>\n",
       "      <td>4</td>\n",
       "    </tr>\n",
       "  </tbody>\n",
       "</table>\n",
       "</div>"
      ],
      "text/plain": [
       "       Economy  Quality\n",
       "Car_A        2        9\n",
       "Car_B        3        7\n",
       "Car_C        8        4"
      ]
     },
     "execution_count": 379,
     "metadata": {},
     "output_type": "execute_result"
    }
   ],
   "source": [
    "# View Dataframe/matrix\n",
    "\n",
    "M"
   ]
  },
  {
   "cell_type": "code",
   "execution_count": 380,
   "metadata": {},
   "outputs": [
    {
     "data": {
      "image/png": "[encoded data removed]",
      "text/plain": [
       "<matplotlib.figure.Figure at 0x1121e8390>"
      ]
     },
     "metadata": {},
     "output_type": "display_data"
    }
   ],
   "source": [
    "# Plot Cars Dataframe (M)\n",
    "\n",
    "fig, ax = plt.subplots()\n",
    "plt.scatter(M.Economy, M.Quality, s=50, c='red', alpha=0.5)\n",
    "\n",
    "for i in range(M.shape[0]):\n",
    "    plt.text(M.Economy[i]+0.2, M.Quality[i], str(M.index[i]))\n",
    "    \n",
    "ax.set_xlim(0, 10)\n",
    "ax.set_xticks(np.arange(0,10,1))\n",
    "ax.set_xlabel('Economy')\n",
    "\n",
    "ax.set_ylim(0, 10)\n",
    "ax.set_yticks(np.arange(0,10,1))\n",
    "ax.set_ylabel('Quality')\n",
    "\n",
    "ax.set_title('Car Ratings')\n",
    "\n",
    "#ax.grid(True)\n",
    "plt.show()"
   ]
  },
  {
   "cell_type": "markdown",
   "metadata": {},
   "source": [
    "### Attention Weight\n",
    "\n",
    "---\n",
    "\n",
    "Attention given to each attribute (can vary from moment to moment)"
   ]
  },
  {
   "cell_type": "markdown",
   "metadata": {},
   "source": [
    "---\n",
    "\n",
    "$$W_{j}$$\n",
    "\n",
    "Where $W_{j}(t)$ denotes the meomentary attention on **attribute** $j$ at **time** $t$.\n",
    "\n",
    "---\n",
    "\n",
    "**QUESTION**\n",
    "\n",
    "Why not:\n",
    "\n",
    "$$w_{ij}(t)$$\n",
    "\n",
    "Where $w_{ij}(t)$ denotes the momentary attention of **option** $i$ on **attribute** $j$ at **time** $t$?\n",
    "\n",
    "---\n",
    "\n",
    "**ASSUMPTION**\n",
    "\n",
    "Attention shifts in an all or nothing manner from one attribute at one moment:\n",
    "\n",
    "$$W_Q(t) = 1, W_E(t) = 0$$\n",
    "\n",
    "to another attribute at another moment:\n",
    "\n",
    "$$W_Q(t) = 0, W_E(t) = 1$$\n",
    "\n",
    "---\n",
    "\n",
    "**ATTENTION PROBABILITY**\n",
    "\n",
    "In the car example the probability of attending to the *economy* attribute is: $w_E$\n",
    "\n",
    "The probability of attending to the *quality* attribute is: $w_Q$\n",
    "\n",
    "---\n",
    "\n",
    "**ATTENTION WEIGHT VECTOR**\n",
    "\n",
    "Attention weights for all attributes at a given time make a **weight vector**:\n",
    "\n",
    "$$\\vec W(t)$$\n",
    "\n",
    "In the car example the weight vector is two-dimensional:\n",
    "\n",
    "$$\\vec W(t) = [W_E(t)W_Q(t)]'$$\n",
    "\n",
    "---"
   ]
  },
  {
   "cell_type": "code",
   "execution_count": 381,
   "metadata": {
    "scrolled": false
   },
   "outputs": [
    {
     "data": {
      "text/html": [
       "<div>\n",
       "<style scoped>\n",
       "    .dataframe tbody tr th:only-of-type {\n",
       "        vertical-align: middle;\n",
       "    }\n",
       "\n",
       "    .dataframe tbody tr th {\n",
       "        vertical-align: top;\n",
       "    }\n",
       "\n",
       "    .dataframe thead th {\n",
       "        text-align: right;\n",
       "    }\n",
       "</style>\n",
       "<table border=\"1\" class=\"dataframe\">\n",
       "  <thead>\n",
       "    <tr style=\"text-align: right;\">\n",
       "      <th></th>\n",
       "      <th>Economy</th>\n",
       "      <th>Quality</th>\n",
       "    </tr>\n",
       "  </thead>\n",
       "  <tbody>\n",
       "    <tr>\n",
       "      <th>0</th>\n",
       "      <td>0</td>\n",
       "      <td>1</td>\n",
       "    </tr>\n",
       "    <tr>\n",
       "      <th>1</th>\n",
       "      <td>0</td>\n",
       "      <td>1</td>\n",
       "    </tr>\n",
       "    <tr>\n",
       "      <th>2</th>\n",
       "      <td>1</td>\n",
       "      <td>0</td>\n",
       "    </tr>\n",
       "    <tr>\n",
       "      <th>3</th>\n",
       "      <td>1</td>\n",
       "      <td>0</td>\n",
       "    </tr>\n",
       "    <tr>\n",
       "      <th>4</th>\n",
       "      <td>1</td>\n",
       "      <td>0</td>\n",
       "    </tr>\n",
       "    <tr>\n",
       "      <th>5</th>\n",
       "      <td>0</td>\n",
       "      <td>1</td>\n",
       "    </tr>\n",
       "    <tr>\n",
       "      <th>6</th>\n",
       "      <td>1</td>\n",
       "      <td>0</td>\n",
       "    </tr>\n",
       "    <tr>\n",
       "      <th>7</th>\n",
       "      <td>0</td>\n",
       "      <td>1</td>\n",
       "    </tr>\n",
       "    <tr>\n",
       "      <th>8</th>\n",
       "      <td>1</td>\n",
       "      <td>0</td>\n",
       "    </tr>\n",
       "    <tr>\n",
       "      <th>9</th>\n",
       "      <td>1</td>\n",
       "      <td>0</td>\n",
       "    </tr>\n",
       "  </tbody>\n",
       "</table>\n",
       "</div>"
      ],
      "text/plain": [
       "   Economy  Quality\n",
       "0        0        1\n",
       "1        0        1\n",
       "2        1        0\n",
       "3        1        0\n",
       "4        1        0\n",
       "5        0        1\n",
       "6        1        0\n",
       "7        0        1\n",
       "8        1        0\n",
       "9        1        0"
      ]
     },
     "execution_count": 381,
     "metadata": {},
     "output_type": "execute_result"
    }
   ],
   "source": [
    "# Lets simulate some arbitrary weights then...\n",
    "\n",
    "# This is based on the assumption that in this case the probability of attending to\n",
    "# Economy and Quality are equivalent (.5/.5)\n",
    "\n",
    "# Economy weight for 10 time points\n",
    "W_E = np.random.randint(2, size=(10))\n",
    "\n",
    "# Quality weight for 10 time points\n",
    "W_Q = abs(W_E - 1)\n",
    "\n",
    "# Create a numpy array from these two vectors\n",
    "weights = np.array([W_E, W_Q]).T\n",
    "\n",
    "# Convert the array into a pandas Dataframe\n",
    "W = (pd.DataFrame(data=weights,\n",
    "                           columns = ['Economy', 'Quality']\n",
    "                          ))\n",
    "\n",
    "# Take a look (this will be different every time you run it due to the random function)\n",
    "W"
   ]
  },
  {
   "cell_type": "code",
   "execution_count": 382,
   "metadata": {},
   "outputs": [
    {
     "data": {
      "text/html": [
       "<div>\n",
       "<style scoped>\n",
       "    .dataframe tbody tr th:only-of-type {\n",
       "        vertical-align: middle;\n",
       "    }\n",
       "\n",
       "    .dataframe tbody tr th {\n",
       "        vertical-align: top;\n",
       "    }\n",
       "\n",
       "    .dataframe thead th {\n",
       "        text-align: right;\n",
       "    }\n",
       "</style>\n",
       "<table border=\"1\" class=\"dataframe\">\n",
       "  <thead>\n",
       "    <tr style=\"text-align: right;\">\n",
       "      <th></th>\n",
       "      <th>Economy</th>\n",
       "      <th>Quality</th>\n",
       "    </tr>\n",
       "  </thead>\n",
       "  <tbody>\n",
       "    <tr>\n",
       "      <th>Car_A</th>\n",
       "      <td>1</td>\n",
       "      <td>0</td>\n",
       "    </tr>\n",
       "    <tr>\n",
       "      <th>Car_B</th>\n",
       "      <td>1</td>\n",
       "      <td>0</td>\n",
       "    </tr>\n",
       "    <tr>\n",
       "      <th>Car_C</th>\n",
       "      <td>1</td>\n",
       "      <td>0</td>\n",
       "    </tr>\n",
       "  </tbody>\n",
       "</table>\n",
       "</div>"
      ],
      "text/plain": [
       "       Economy  Quality\n",
       "Car_A        1        0\n",
       "Car_B        1        0\n",
       "Car_C        1        0"
      ]
     },
     "execution_count": 382,
     "metadata": {},
     "output_type": "execute_result"
    }
   ],
   "source": [
    "# Lets look at the weighted attribute values for each car at time point 3\n",
    "\n",
    "# Set timepoint of interest\n",
    "t = 3\n",
    "\n",
    "# Create array of weights\n",
    "W_t = np.ones((3,2), dtype = int) * np.array([W.iloc[t]])\n",
    "\n",
    "# Convert the array into a pandas Dataframe (this is not necessary, just a bit easier to interpret)\n",
    "W_t = (pd.DataFrame(data=W_t,\n",
    "                    columns = ['Economy', 'Quality'],\n",
    "                    index = ['Car_A', 'Car_B', 'Car_C']\n",
    "                          ))\n",
    "\n",
    "# Take a look at this Dataframe\n",
    "W_t"
   ]
  },
  {
   "cell_type": "markdown",
   "metadata": {},
   "source": [
    "---\n",
    "\n",
    "**WEIGHTED VALUE**\n",
    "\n",
    "The weighted value is the matrix product of weights and values:\n",
    "\n",
    "$$\\vec M\\vec W(t)$$\n"
   ]
  },
  {
   "cell_type": "markdown",
   "metadata": {},
   "source": [
    "---\n",
    "\n",
    "**EXAMPLE**\n",
    "\n",
    "When choosing among three cars, the $i$th row is:\n",
    "\n",
    "$$\\vec M\\vec W(t) = W_E(t)m_{iE} + W_Q(t)m_{iQ}$$\n",
    "\n",
    "---"
   ]
  },
  {
   "cell_type": "code",
   "execution_count": 383,
   "metadata": {},
   "outputs": [
    {
     "name": "stdout",
     "output_type": "stream",
     "text": [
      "MW(t) = \n",
      "       Economy  Quality\n",
      "Car_A        2        0\n",
      "Car_B        3        0\n",
      "Car_C        8        0\n",
      "\n",
      "WE(t)miE + WQ(t)miQ = \n",
      "Car_A    2\n",
      "Car_B    3\n",
      "Car_C    8\n",
      "dtype: int64\n",
      "\n"
     ]
    }
   ],
   "source": [
    "# For t = 3\n",
    "\n",
    "print('MW(t) = \\n{0}\\n'.format(M * W.iloc[3]))\n",
    "\n",
    "# which is the same as:\n",
    "\n",
    "print('WE(t)miE + WQ(t)miQ = \\n{0}\\n'.format(W.Economy[3]*M.Economy + W.Quality[3]*M.Quality))\n"
   ]
  },
  {
   "cell_type": "code",
   "execution_count": 384,
   "metadata": {},
   "outputs": [
    {
     "data": {
      "text/html": [
       "<div>\n",
       "<style scoped>\n",
       "    .dataframe tbody tr th:only-of-type {\n",
       "        vertical-align: middle;\n",
       "    }\n",
       "\n",
       "    .dataframe tbody tr th {\n",
       "        vertical-align: top;\n",
       "    }\n",
       "\n",
       "    .dataframe thead th {\n",
       "        text-align: right;\n",
       "    }\n",
       "</style>\n",
       "<table border=\"1\" class=\"dataframe\">\n",
       "  <thead>\n",
       "    <tr style=\"text-align: right;\">\n",
       "      <th></th>\n",
       "      <th>Economy</th>\n",
       "      <th>Quality</th>\n",
       "    </tr>\n",
       "  </thead>\n",
       "  <tbody>\n",
       "    <tr>\n",
       "      <th>Car_A</th>\n",
       "      <td>2</td>\n",
       "      <td>0</td>\n",
       "    </tr>\n",
       "    <tr>\n",
       "      <th>Car_B</th>\n",
       "      <td>3</td>\n",
       "      <td>0</td>\n",
       "    </tr>\n",
       "    <tr>\n",
       "      <th>Car_C</th>\n",
       "      <td>8</td>\n",
       "      <td>0</td>\n",
       "    </tr>\n",
       "  </tbody>\n",
       "</table>\n",
       "</div>"
      ],
      "text/plain": [
       "       Economy  Quality\n",
       "Car_A        2        0\n",
       "Car_B        3        0\n",
       "Car_C        8        0"
      ]
     },
     "execution_count": 384,
     "metadata": {},
     "output_type": "execute_result"
    }
   ],
   "source": [
    "# A bit more legibly, where W_t has been set to W(t) = W(3) above:\n",
    "\n",
    "M_Wt = M * W_t\n",
    "M_Wt"
   ]
  },
  {
   "cell_type": "code",
   "execution_count": 385,
   "metadata": {
    "scrolled": true
   },
   "outputs": [
    {
     "data": {
      "image/png": "[encoded data removed]",
      "text/plain": [
       "<matplotlib.figure.Figure at 0x11250bd68>"
      ]
     },
     "metadata": {},
     "output_type": "display_data"
    }
   ],
   "source": [
    "# Plot Cars Dataframe (M) Weighted by attention at time t = 3\n",
    "\n",
    "fig, ax = plt.subplots()\n",
    "plt.scatter(M_Wt.Economy, M_Wt.Quality, s=50, c='red', alpha=0.5)\n",
    "\n",
    "for i in range(M_Wt.shape[0]):\n",
    "    plt.text(M_Wt.Economy[i]+0.2, M_Wt.Quality[i], str(M_Wt.index[i]))\n",
    "    \n",
    "ax.set_xlim(0, 10)\n",
    "ax.set_xticks(np.arange(0,10,1))\n",
    "ax.set_xlabel('Economy')\n",
    "\n",
    "ax.set_ylim(0, 10)\n",
    "ax.set_yticks(np.arange(0,10,1))\n",
    "ax.set_ylabel('Quality')\n",
    "\n",
    "ax.set_title('Car Ratings')\n",
    "\n",
    "#ax.grid(True)\n",
    "plt.show()"
   ]
  },
  {
   "cell_type": "markdown",
   "metadata": {},
   "source": [
    "---\n",
    "\n",
    "**NOTE**\n",
    "\n",
    "Unlike the classic weighted utility model, the weighted values are **stochastic** because of fluctuations in the attention weights (in this example $W_E(t)$ and $W_Q(t)$\n",
    "\n",
    "---"
   ]
  },
  {
   "cell_type": "markdown",
   "metadata": {},
   "source": [
    "### Comparison Process\n",
    "\n",
    "---\n",
    "\n",
    "Contrasts the weighted evaluations of each option"
   ]
  },
  {
   "cell_type": "markdown",
   "metadata": {},
   "source": [
    "---\n",
    "\n",
    "**GENERAL CONCEPT**\n",
    "\n",
    "Valence of each option is produced by contrasting the weighted value of one alternative against the average of all the others.\n",
    "\n",
    "---\n",
    "\n",
    "**EXAMPLE**\n",
    "\n",
    "Three alternatives (cars): {A, B, C}\n",
    "\n",
    "Valence for option A:\n",
    "\n",
    "$$v_A(t) = W_E(t)m_{AE} + W_Q(t)m_{AQ} - [W_E(t)m_{BE} + W_Q(t)m_{BQ} + W_E(t)m_{CE} + W_Q(t)m_{CQ}]/2$$\n",
    "\n",
    "---"
   ]
  },
  {
   "cell_type": "code",
   "execution_count": 386,
   "metadata": {},
   "outputs": [
    {
     "name": "stdout",
     "output_type": "stream",
     "text": [
      "Valence for Car A at time 3 = -3.5\n"
     ]
    }
   ],
   "source": [
    "# Using the values from 1.1.2 lets calculate this for t = 3 (change 't' to see other values)\n",
    "t = 3\n",
    "\n",
    "Val_A_t = W.Economy[t]*M.Economy['Car_A'] + W.Quality[t]*M.Quality['Car_A'] \\\n",
    "           - (W.Economy[t]*M.Economy['Car_B'] + W.Quality[t]*M.Quality['Car_B'] +\n",
    "              W.Economy[t]*M.Economy['Car_C'] + W.Quality[t]*M.Quality['Car_C'])/2\n",
    "\n",
    "print('Valence for Car A at time {0} = {1}'.format(t, Val_A_t))"
   ]
  },
  {
   "cell_type": "markdown",
   "metadata": {},
   "source": [
    "---\n",
    "**CONTRAST MATRIX**\n",
    "\n",
    "$$\\vec C= \\begin{bmatrix}\n",
    "    1 & -\\frac{1}{2} & -\\frac{1}{2}\\\\\n",
    "    -\\frac{1}{2} & 1 & -\\frac{1}{2}\\\\\n",
    "    -\\frac{1}{2} & -\\frac{1}{2} & 1\n",
    "\\end{bmatrix}$$\n",
    "\n",
    "---\n",
    "\n",
    "**VALENCE VECTOR**\n",
    "\n",
    "$$\\vec V(t) = \\vec C\\vec M\\vec W(t)$$\n",
    "\n",
    "This equation can be used for ***any*** number of *alternatives* and *attributes*.\n",
    "\n",
    "---"
   ]
  },
  {
   "cell_type": "code",
   "execution_count": 387,
   "metadata": {},
   "outputs": [
    {
     "data": {
      "text/plain": [
       "array([[ 1. , -0.5, -0.5],\n",
       "       [-0.5,  1. , -0.5],\n",
       "       [-0.5, -0.5,  1. ]])"
      ]
     },
     "execution_count": 387,
     "metadata": {},
     "output_type": "execute_result"
    }
   ],
   "source": [
    "# Lets try this\n",
    "\n",
    "# First create the matrix C\n",
    "\n",
    "C = np.array([[1, -0.5, -0.5], [-0.5, 1, -0.5], [-0.5, -0.5, 1]])\n",
    "C"
   ]
  },
  {
   "cell_type": "code",
   "execution_count": 388,
   "metadata": {
    "scrolled": true
   },
   "outputs": [
    {
     "name": "stdout",
     "output_type": "stream",
     "text": [
      "Valence vector = \n",
      "[-3.5 -2.   5.5]\n",
      "\n",
      "In other words:\n",
      "Car A Valence at t=3 is -3.5\n",
      "Car B Valence at t=3 is -2.0\n",
      "Car C Valence at t=3 is 5.5\n",
      "\n"
     ]
    }
   ],
   "source": [
    "# Then write the matrix product equation\n",
    "\n",
    "# Change 't' value if you like\n",
    "t = 3\n",
    "\n",
    "# V(t) = CMW(t)\n",
    "V_t = C.dot(M).dot(W.iloc[t])\n",
    "\n",
    "print('Valence vector = \\n{0}\\n'.format(V_t))\n",
    "print('In other words:\\nCar A Valence at t={0} is {1}\\nCar B Valence at t={0} is {2}\\nCar C Valence at t={0} is {3}\\n'.format(t, V_t[0], V_t[1], V_t[2]))"
   ]
  },
  {
   "cell_type": "markdown",
   "metadata": {},
   "source": [
    "---\n",
    "\n",
    "**NOISE**\n",
    "\n",
    "The authors assume that most choices often involve **primary** and **secondary** (irrelevant) attributes.\n",
    "\n",
    "Under this assumption they divide a $p$-dimensional attention weight vector into two components:\n",
    "\n",
    "$$\\vec W(t)' = [\\vec W_1(t)', \\vec W_2(t)']$$ \n",
    "\n",
    "$\\vec W_1(t)$ = **primary** dimensions/attributes ($q$-dimensional)\n",
    "\n",
    "$\\vec W_2(t)$ = **secondary/irrelevant** dimensions/attributes ($p-q$-dimensional)\n",
    "\n",
    "This means the **Valence Vector** can be rewritten to:\n",
    "\n",
    "$$\\vec V(t) = \\vec C\\vec M\\vec W(t) = \\vec C\\vec M_1\\vec W_1(t) + \\epsilon(t)$$\n",
    "\n",
    "$\\epsilon(t) = \\vec C\\vec M_2\\vec W_2(t)$ and can be treated as a **stochastic error** or **residual** term.\n",
    "\n",
    "---"
   ]
  },
  {
   "cell_type": "markdown",
   "metadata": {},
   "source": [
    "## Preferences $\\vec P(t)$\n",
    "\n",
    "---\n",
    "\n",
    "At any moment in time, each alternative in the choice set is associated with a preference strength"
   ]
  },
  {
   "cell_type": "markdown",
   "metadata": {},
   "source": [
    "---\n",
    "\n",
    "$P_i(t)$ = Preference strength for alternative $i$ at time $t$\n",
    "\n",
    "Represents the **integration** of all **valences** considered for alternative $i$ up to that point in time.\n",
    "\n",
    "---\n",
    "\n",
    "$\\vec P(t)$ = Preference state vector\n",
    "\n",
    "Represents the preference for all alternatives at time $t$.\n",
    "\n",
    "---\n",
    "\n",
    "**EXAMPLE**\n",
    "\n",
    "For three options, {A, B, C}\n",
    "\n",
    "$$\\vec P(t) = [P_A(t), P_B(t), P_C(t)]'$$\n",
    "\n",
    "---\n",
    "\n",
    "For time $t + 1$:\n",
    "\n",
    "$$\\vec P(t + 1) = \\vec P(t) + \\vec V(t)$$  \n",
    "\n",
    "Where $\\vec V(t)$ = **new** input valence vector\n",
    "\n",
    "---\n",
    "\n",
    "**EQUATION**: **Linear Stochastic Difference Equation**\n",
    "\n",
    "$$\\vec P(t+1) = \\vec S\\vec P(t) + \\vec V(t+1)$$\n",
    "\n",
    "Note that the new preference state $\\vec P(t+1)$ is a **weighted combination** of:\n",
    "\n",
    "*Previous preference state + New input valence*\n",
    "\n",
    "---\n",
    "\n",
    "The **dynamic** behavior of the model is determined by two factors.\n",
    "\n",
    "1. $\\vec P(0)$ = initial preference state\n",
    "2. $\\vec S$ = feedback matrix\n",
    "\n",
    "---"
   ]
  },
  {
   "cell_type": "markdown",
   "metadata": {},
   "source": [
    "## Initial Preference State $\\vec P(0)$\n",
    "\n",
    "---\n",
    "\n",
    "Residual bias from previous experience (if present)"
   ]
  },
  {
   "cell_type": "markdown",
   "metadata": {},
   "source": [
    "---\n",
    "\n",
    "Initial **UNBIASED** state:\n",
    "\n",
    "$$\\vec P(0) = 0$$\n",
    "\n",
    "---"
   ]
  },
  {
   "cell_type": "markdown",
   "metadata": {},
   "source": [
    "## Feedback Matrix $\\vec S$\n",
    "\n",
    "---\n",
    "\n",
    "Contains the self-connections and interconnections among the choice alternatives"
   ]
  },
  {
   "cell_type": "markdown",
   "metadata": {},
   "source": [
    "---\n",
    "\n",
    "**DIAGONAL ELEMENTS of $\\vec S$: Self Feedback**\n",
    "\n",
    "$$S_{ii}$$\n",
    "\n",
    "Determine the **memory** of the previous preference state for an alternative\n",
    "\n",
    "Allow for **growth** and **decay** of alternative's valence\n",
    "\n",
    "---\n",
    "\n",
    "**Special Cases**:\n",
    "\n",
    "$S_{ii} = 0$\n",
    "\n",
    "Option has **no memory** of its previous state.\n",
    "\n",
    "$S_{ii} = 1$\n",
    "\n",
    "Option has **perfect memory** of its previous state.\n",
    "\n",
    "---\n",
    "\n",
    "**Note**:\n",
    "\n",
    "We will assume $S_{ii}$ is the same for all $i$."
   ]
  },
  {
   "cell_type": "markdown",
   "metadata": {},
   "source": [
    "---\n",
    "\n",
    "**OFF-DIAGONAL ELEMENTS of $\\vec S$: Interconnections**\n",
    "\n",
    "$$S_{ij} \\text{  for  } i \\ne j$$\n",
    "\n",
    "Usually **negative** values (inhibitory)\n",
    "\n",
    "---\n",
    "\n",
    "**Special Case**:\n",
    "\n",
    "$S_{ij} = 0$\n",
    "\n",
    "No inhibition.\n",
    "\n",
    "---\n",
    "\n",
    "**BASIC IDEA**\n",
    "\n",
    "Strength of lateral interconnection between options = decreasing function of distance (in multiattribute space)\n",
    "\n",
    "---\n",
    "\n",
    "$$d_{ij}$$\n",
    "\n",
    "Psychological distance between options $i$ and $j$ in multiattribute preference space.\n",
    "\n",
    "---\n",
    "\n",
    "**Interconnection Value**\n",
    "\n",
    "$$S_{ij} = F[d(A_i, A_j)]$$\n",
    "\n",
    "Where $F$ is a decreasing function.\n",
    "\n",
    "Note that this function ($F$) could be of different forms (e.g. exponential [Shepard, 1964](https://www.sciencedirect.com/science/article/pii/0022249664900173)\n",
    "\n",
    "---\n",
    "\n",
    "**Important Constraints**\n",
    "\n",
    "1. Symmetry: $S_{ij} = S_{ji}$\n",
    "\n",
    "2. Interconnection value decreases with distance\n",
    "\n",
    "---"
   ]
  },
  {
   "cell_type": "code",
   "execution_count": 389,
   "metadata": {},
   "outputs": [
    {
     "name": "stdout",
     "output_type": "stream",
     "text": [
      "Distance between Car A and Car B = 2.24\n",
      "Distance between Car A and Car C = 7.81\n",
      "Distance between Car B and Car C = 5.83\n"
     ]
    }
   ],
   "source": [
    "# Just for fun let's check the distance between our three cars\n",
    "CarA_CarB = math.hypot(M.Economy[0] - M.Economy[1], M.Quality[0] - M.Quality[1])\n",
    "CarA_CarC = math.hypot(M.Economy[0] - M.Economy[2], M.Quality[0] - M.Quality[2])\n",
    "CarB_CarC = math.hypot(M.Economy[1] - M.Economy[2], M.Quality[1] - M.Quality[2])\n",
    "\n",
    "print('Distance between Car A and Car B = {0:.2f}'.format(CarA_CarB))\n",
    "print('Distance between Car A and Car C = {0:.2f}'.format(CarA_CarC))\n",
    "print('Distance between Car B and Car C = {0:.2f}'.format(CarB_CarC))"
   ]
  },
  {
   "cell_type": "markdown",
   "metadata": {},
   "source": [
    "---\n",
    "\n",
    "**NOTE**\n",
    "\n",
    "In this example the feedback matrix can produce at most three new parameters:\n",
    "\n",
    "1. Self-feedback\n",
    "2. A to B Inhibition\n",
    "3. A to C Inhibition"
   ]
  },
  {
   "cell_type": "markdown",
   "metadata": {},
   "source": [
    "## Parameter Summary\n",
    "\n",
    "---\n",
    "\n",
    "Four sets of parameters that require specification"
   ]
  },
  {
   "cell_type": "markdown",
   "metadata": {},
   "source": [
    "---\n",
    "\n",
    "$\\vec w$\n",
    "\n",
    "Mean weight matrix\n",
    "\n",
    "---\n",
    "\n",
    "$\\vec M$\n",
    "\n",
    "Value matrix\n",
    "\n",
    "---\n",
    "\n",
    "$\\epsilon$\n",
    "\n",
    "Residual variance contributed by irrelevant attributes\n",
    "\n",
    "---\n",
    "\n",
    "$\\vec S$\n",
    "\n",
    "Symmetric feedback matrix\n",
    "\n",
    "---"
   ]
  },
  {
   "cell_type": "markdown",
   "metadata": {},
   "source": [
    "# MADFT vs. Other Models\n",
    "\n",
    "---\n",
    "\n",
    "Showing how other models are just special cases of MADFT"
   ]
  },
  {
   "cell_type": "markdown",
   "metadata": {},
   "source": [
    "## Multiattribute Utility Model \n",
    "([Keeney & Raiffa, 1976](https://www.amazon.com/Decisions-Multiple-Objectives-Preferences-Tradeoffs/dp/0521438837))\n",
    "\n",
    "---\n",
    "\n",
    "Requires two assumptions"
   ]
  },
  {
   "cell_type": "markdown",
   "metadata": {},
   "source": [
    "---\n",
    "\n",
    "**ASSUMPTION 1**\n",
    "\n",
    "---\n",
    "\n",
    "Remembering the **Linear Stochastic Difference Equation**\n",
    "\n",
    "$$\\vec P(t+1) = \\vec S\\vec P(t) + \\vec V(t+1)$$\n",
    "\n",
    "---\n",
    "\n",
    "**IF** the feedback matrix is **zero** ($\\vec S = 0$), then:\n",
    "\n",
    "$$\\vec P(t) = \\vec V(t)$$\n",
    "\n",
    "---\n",
    "\n",
    "**ASSUMPTION 2**\n",
    "\n",
    "---\n",
    "\n",
    "Remember the **Valence Vector Equation**\n",
    "\n",
    "$$\\vec V(t) = \\vec C\\vec M_1\\vec W_1(t) + \\epsilon(t)$$\n",
    "\n",
    "Where $\\epsilon(t)$ represents irrelevant attributes/dimensions of the choice ($\\vec C\\vec M_2\\vec W_2(t)$), and can be treated as stochastic error/residuals.\n",
    "\n",
    "----\n",
    "\n",
    "**IF** attention does not fluctuate across time **and** the residuals/error is zero ($\\epsilon(t) = 0$) then:\n",
    "\n",
    "$$\\vec V = \\vec C\\vec M\\vec w$$\n",
    "\n",
    "Where $\\vec V$ produces the same RANK ORDER over alternatives as the classic multi-attribute model.\n",
    "\n",
    "---"
   ]
  },
  {
   "cell_type": "markdown",
   "metadata": {},
   "source": [
    "## Dynamic Thurstone Model \n",
    "([Thurstone, 1959](https://www.amazon.ca/Measurement-Values-Louis-Leon-Thurstone/dp/0226801128))\n",
    "\n",
    "---\n",
    "\n",
    "*Had trouble getting clear info on how Thurstone preference model works*"
   ]
  },
  {
   "cell_type": "markdown",
   "metadata": {},
   "source": [
    "---\n",
    "\n",
    "**ASSUMPTIONS**\n",
    "\n",
    "1. small step size ($t$)\n",
    "2. Feedback matrix ($\\vec S$) set to an identity matrix\n",
    "\n",
    "---\n",
    "\n",
    "Under these conditions at any fixsed time point $t$, $\\vec P(t+1) = \\vec S\\vec P(t) + \\vec V(t+1)$ reduces to a multivariate Thurstone preferential choice model.\n"
   ]
  },
  {
   "cell_type": "markdown",
   "metadata": {},
   "source": [
    "# MADFT IMPLEMENTATION\n",
    "\n",
    "---\n",
    "\n",
    "Coding the model"
   ]
  },
  {
   "cell_type": "markdown",
   "metadata": {},
   "source": [
    "## Similarity Effect"
   ]
  },
  {
   "cell_type": "markdown",
   "metadata": {},
   "source": [
    "---\n",
    "\n",
    "**Create a value matrix for three cars: $\\vec M$**\n",
    "\n",
    "---\n",
    "\n",
    "The left column is economy, the right, quality.\n",
    "\n",
    "Each row is a car (A, S and B).\n"
   ]
  },
  {
   "cell_type": "code",
   "execution_count": 390,
   "metadata": {
    "scrolled": true
   },
   "outputs": [
    {
     "data": {
      "text/plain": [
       "array([[ 1.  ,  3.  ],\n",
       "       [ 0.85,  3.2 ],\n",
       "       [ 3.  ,  1.  ]])"
      ]
     },
     "execution_count": 390,
     "metadata": {},
     "output_type": "execute_result"
    }
   ],
   "source": [
    "M_1 = np.array([[1,3], [.85,3.2], [3,1]])\n",
    "M_1"
   ]
  },
  {
   "cell_type": "code",
   "execution_count": 511,
   "metadata": {},
   "outputs": [
    {
     "data": {
      "text/html": [
       "<div>\n",
       "<style scoped>\n",
       "    .dataframe tbody tr th:only-of-type {\n",
       "        vertical-align: middle;\n",
       "    }\n",
       "\n",
       "    .dataframe tbody tr th {\n",
       "        vertical-align: top;\n",
       "    }\n",
       "\n",
       "    .dataframe thead th {\n",
       "        text-align: right;\n",
       "    }\n",
       "</style>\n",
       "<table border=\"1\" class=\"dataframe\">\n",
       "  <thead>\n",
       "    <tr style=\"text-align: right;\">\n",
       "      <th></th>\n",
       "      <th>Economy</th>\n",
       "      <th>Quality</th>\n",
       "    </tr>\n",
       "    <tr>\n",
       "      <th>Car</th>\n",
       "      <th></th>\n",
       "      <th></th>\n",
       "    </tr>\n",
       "  </thead>\n",
       "  <tbody>\n",
       "    <tr>\n",
       "      <th>A</th>\n",
       "      <td>1.00</td>\n",
       "      <td>3.0</td>\n",
       "    </tr>\n",
       "    <tr>\n",
       "      <th>S</th>\n",
       "      <td>0.85</td>\n",
       "      <td>3.2</td>\n",
       "    </tr>\n",
       "    <tr>\n",
       "      <th>B</th>\n",
       "      <td>3.00</td>\n",
       "      <td>1.0</td>\n",
       "    </tr>\n",
       "  </tbody>\n",
       "</table>\n",
       "</div>"
      ],
      "text/plain": [
       "     Economy  Quality\n",
       "Car                  \n",
       "A       1.00      3.0\n",
       "S       0.85      3.2\n",
       "B       3.00      1.0"
      ]
     },
     "execution_count": 511,
     "metadata": {},
     "output_type": "execute_result"
    }
   ],
   "source": [
    "options = [\"A\", \"S\", \"B\"]\n",
    "\n",
    "M_1 = (pd.DataFrame(data=M_1,\n",
    "                  columns=['Economy', 'Quality']))\n",
    "M_1"
   ]
  },
  {
   "cell_type": "code",
   "execution_count": 392,
   "metadata": {},
   "outputs": [
    {
     "data": {
      "text/html": [
       "<div>\n",
       "<style scoped>\n",
       "    .dataframe tbody tr th:only-of-type {\n",
       "        vertical-align: middle;\n",
       "    }\n",
       "\n",
       "    .dataframe tbody tr th {\n",
       "        vertical-align: top;\n",
       "    }\n",
       "\n",
       "    .dataframe thead th {\n",
       "        text-align: right;\n",
       "    }\n",
       "</style>\n",
       "<table border=\"1\" class=\"dataframe\">\n",
       "  <thead>\n",
       "    <tr style=\"text-align: right;\">\n",
       "      <th></th>\n",
       "      <th>Economy</th>\n",
       "      <th>Quality</th>\n",
       "    </tr>\n",
       "    <tr>\n",
       "      <th>Car</th>\n",
       "      <th></th>\n",
       "      <th></th>\n",
       "    </tr>\n",
       "  </thead>\n",
       "  <tbody>\n",
       "    <tr>\n",
       "      <th>A</th>\n",
       "      <td>1.00</td>\n",
       "      <td>3.0</td>\n",
       "    </tr>\n",
       "    <tr>\n",
       "      <th>S</th>\n",
       "      <td>0.85</td>\n",
       "      <td>3.2</td>\n",
       "    </tr>\n",
       "    <tr>\n",
       "      <th>B</th>\n",
       "      <td>3.00</td>\n",
       "      <td>1.0</td>\n",
       "    </tr>\n",
       "  </tbody>\n",
       "</table>\n",
       "</div>"
      ],
      "text/plain": [
       "     Economy  Quality\n",
       "Car                  \n",
       "A       1.00      3.0\n",
       "S       0.85      3.2\n",
       "B       3.00      1.0"
      ]
     },
     "execution_count": 392,
     "metadata": {},
     "output_type": "execute_result"
    }
   ],
   "source": [
    "M_1['Car'] = options\n",
    "M_1.set_index('Car', inplace=True)\n",
    "M_1"
   ]
  },
  {
   "cell_type": "code",
   "execution_count": 393,
   "metadata": {},
   "outputs": [
    {
     "data": {
      "image/png": "[encoded data removed]",
      "text/plain": [
       "<matplotlib.figure.Figure at 0x11245c550>"
      ]
     },
     "metadata": {},
     "output_type": "display_data"
    }
   ],
   "source": [
    "# Plot M\n",
    "\n",
    "fig, ax = plt.subplots()\n",
    "plt.scatter(M_1.Economy, M_1.Quality, s=50, c='red', alpha=0.5)\n",
    "\n",
    "for i in range(len(M_1.index)):\n",
    "    plt.text(M_1.Economy[i]+0.1, M_1.Quality[i], str(M_1.index[i]))\n",
    "    \n",
    "ax.set_xlim(0, 4)\n",
    "ax.set_xticks(np.arange(0,4,1))\n",
    "ax.set_xlabel('Economy')\n",
    "\n",
    "ax.set_ylim(0, 4)\n",
    "ax.set_yticks(np.arange(0,4,1))\n",
    "ax.set_ylabel('Quality')\n",
    "\n",
    "ax.set_title('Car Ratings')\n",
    "\n",
    "#ax.grid(True)\n",
    "plt.show()"
   ]
  },
  {
   "cell_type": "markdown",
   "metadata": {},
   "source": [
    "---\n",
    "\n",
    "**Set the attention weights: $\\vec w$**\n",
    "\n",
    "---\n",
    "\n",
    "In this case for quality ($w_Q$) and economy ($w_E$).\n",
    "\n",
    "The reason that **quality** is weighted slightly more heavily than economy is so that in a binary choice, the chooser should opt in favor of **Car A** over **Car B**.\n",
    "\n",
    "The weights are, otherwise, arbitrary in this case, and do not add up to 1 because some small residual probability is allowed for attention to irrelevant attributes."
   ]
  },
  {
   "cell_type": "code",
   "execution_count": 394,
   "metadata": {},
   "outputs": [
    {
     "data": {
      "text/plain": [
       "array([ 0.45,  0.43,  0.12])"
      ]
     },
     "execution_count": 394,
     "metadata": {},
     "output_type": "execute_result"
    }
   ],
   "source": [
    "w_q = 0.45\n",
    "w_e = 0.43\n",
    "\n",
    "# Make a vector of weights (add in the noise weight too)\n",
    "\n",
    "w_vec = np.array([w_q, w_e, (1-w_q-w_e)])\n",
    "w_vec"
   ]
  },
  {
   "cell_type": "markdown",
   "metadata": {},
   "source": [
    "---\n",
    "\n",
    "**Note** that in [current code](http://mypage.iu.edu/~jbusemey/lab/Dec_prg.htm) from Busemeyer there appears to be no attention weight given to the residual/irrelevant attributes.\n",
    "\n",
    "Instead noise is added at every time step.\n",
    "\n",
    "---"
   ]
  },
  {
   "cell_type": "markdown",
   "metadata": {},
   "source": [
    "---\n",
    "\n",
    "**Example: Get the weights for any given $t$:** $\\vec W(t)$\n",
    "\n",
    "---"
   ]
  },
  {
   "cell_type": "code",
   "execution_count": 398,
   "metadata": {
    "collapsed": true
   },
   "outputs": [],
   "source": [
    "# create an idendity matrix\n",
    "\n",
    "id_mat = np.eye(len(options))"
   ]
  },
  {
   "cell_type": "code",
   "execution_count": 399,
   "metadata": {},
   "outputs": [
    {
     "data": {
      "text/plain": [
       "array([[ 0.,  0.,  1.]])"
      ]
     },
     "execution_count": 399,
     "metadata": {},
     "output_type": "execute_result"
    }
   ],
   "source": [
    "# select the row of the identity matrix based on the attention weights\n",
    "\n",
    "i = np.random.choice([0,1,2], 1, p=w_vec)   # p is the probability of sampling\n",
    "w_vec_t = id_mat[i]\n",
    "\n",
    "w_vec_t"
   ]
  },
  {
   "cell_type": "markdown",
   "metadata": {},
   "source": [
    "---\n",
    "\n",
    "**Create the feedback matrix: $\\vec S$**\n",
    "\n",
    "---\n",
    "\n",
    "*Self* connections ($S_{ii}$) = 0.94 \n",
    "\n",
    "*Inhibitory* connections between distant alternatives ($S_{AB} = S_{BA} = S_{SB} = S_{BS}$) = -0.001\n",
    "\n",
    "*Inhibitory* connections between similar alternatives ($S_{AS} = S_{SA}$) = -0.025\n",
    "\n",
    "Note that the weights are arbitrary in this case, and do not add up to 1 because some small residual probability is allowed for attention to irrelevant attributes."
   ]
  },
  {
   "cell_type": "code",
   "execution_count": 512,
   "metadata": {},
   "outputs": [],
   "source": [
    "self = 0.94\n",
    "inhibitory = -0.001\n",
    "\n",
    "S = np.full((len(options), len(options)), inhibitory)    # fills array with inhibitory val\n",
    "np.fill_diagonal(S, self)                                # ovewrite diag with self (in place)"
   ]
  },
  {
   "cell_type": "code",
   "execution_count": 513,
   "metadata": {},
   "outputs": [],
   "source": [
    "# convert to dataframe\n",
    "\n",
    "S = (pd.DataFrame(data=S,\n",
    "                  columns=[options]))\n",
    "S['Car'] = options\n",
    "S.set_index('Car', inplace=True)"
   ]
  },
  {
   "cell_type": "markdown",
   "metadata": {},
   "source": [
    "Set *Inhibitory* connections between similar alternatives ($S_{AS} = S_{SA}$) = -0.025"
   ]
  },
  {
   "cell_type": "code",
   "execution_count": 514,
   "metadata": {},
   "outputs": [
    {
     "data": {
      "text/html": [
       "<div>\n",
       "<style scoped>\n",
       "    .dataframe tbody tr th:only-of-type {\n",
       "        vertical-align: middle;\n",
       "    }\n",
       "\n",
       "    .dataframe tbody tr th {\n",
       "        vertical-align: top;\n",
       "    }\n",
       "\n",
       "    .dataframe thead tr th {\n",
       "        text-align: left;\n",
       "    }\n",
       "\n",
       "    .dataframe thead tr:last-of-type th {\n",
       "        text-align: right;\n",
       "    }\n",
       "</style>\n",
       "<table border=\"1\" class=\"dataframe\">\n",
       "  <thead>\n",
       "    <tr>\n",
       "      <th></th>\n",
       "      <th>A</th>\n",
       "      <th>S</th>\n",
       "      <th>B</th>\n",
       "    </tr>\n",
       "    <tr>\n",
       "      <th>Car</th>\n",
       "      <th></th>\n",
       "      <th></th>\n",
       "      <th></th>\n",
       "    </tr>\n",
       "  </thead>\n",
       "  <tbody>\n",
       "    <tr>\n",
       "      <th>(A,)</th>\n",
       "      <td>0.940</td>\n",
       "      <td>-0.025</td>\n",
       "      <td>-0.001</td>\n",
       "    </tr>\n",
       "    <tr>\n",
       "      <th>(S,)</th>\n",
       "      <td>-0.025</td>\n",
       "      <td>0.940</td>\n",
       "      <td>-0.001</td>\n",
       "    </tr>\n",
       "    <tr>\n",
       "      <th>(B,)</th>\n",
       "      <td>-0.001</td>\n",
       "      <td>-0.001</td>\n",
       "      <td>0.940</td>\n",
       "    </tr>\n",
       "  </tbody>\n",
       "</table>\n",
       "</div>"
      ],
      "text/plain": [
       "          A      S      B\n",
       "Car                      \n",
       "(A,)  0.940 -0.025 -0.001\n",
       "(S,) -0.025  0.940 -0.001\n",
       "(B,) -0.001 -0.001  0.940"
      ]
     },
     "execution_count": 514,
     "metadata": {},
     "output_type": "execute_result"
    }
   ],
   "source": [
    "S.iloc[0,1] = -0.025\n",
    "S.iloc[1,0] = -0.025\n",
    "S"
   ]
  },
  {
   "cell_type": "markdown",
   "metadata": {},
   "source": [
    "---\n",
    "\n",
    "**Create the contrast matrix: $\\vec C$**\n",
    "\n",
    "---"
   ]
  },
  {
   "cell_type": "code",
   "execution_count": 515,
   "metadata": {},
   "outputs": [
    {
     "data": {
      "text/plain": [
       "array([[ 1. , -0.5, -0.5],\n",
       "       [-0.5,  1. , -0.5],\n",
       "       [-0.5, -0.5,  1. ]])"
      ]
     },
     "execution_count": 515,
     "metadata": {},
     "output_type": "execute_result"
    }
   ],
   "source": [
    "# Create contrast array\n",
    "\n",
    "# Alt - more legible but harder to scale\n",
    "# C = np.array([[1, -0.5, -0.5], [-0.5, 1, -0.5], [-0.5, -0.5, 1]])\n",
    "\n",
    "contrast_val = -1/(len(options) - 1)\n",
    "C = np.full((len(options), len(options)), contrast_val)    # fills array with inhibitory val\n",
    "np.fill_diagonal(C, 1) \n",
    "\n",
    "C"
   ]
  },
  {
   "cell_type": "code",
   "execution_count": 407,
   "metadata": {},
   "outputs": [
    {
     "data": {
      "text/plain": [
       "array([-0.925, -1.15 ,  2.075])"
      ]
     },
     "execution_count": 407,
     "metadata": {},
     "output_type": "execute_result"
    }
   ],
   "source": [
    "# CALCULATE VALENCE: V(t) = CMW(t)\n",
    "\n",
    "V_t = C.dot(M_1).dot(W.iloc[t])\n",
    "V_t"
   ]
  },
  {
   "cell_type": "markdown",
   "metadata": {},
   "source": [
    "---\n",
    "\n",
    "**Calculate Linear Stochastic Difference Equation**\n",
    "\n",
    "$$\\vec P(t+1) = \\vec S\\vec P(t) + \\vec V(t+1)$$\n",
    "\n",
    "---"
   ]
  },
  {
   "cell_type": "markdown",
   "metadata": {},
   "source": [
    "Function to calculate single choice trial"
   ]
  },
  {
   "cell_type": "code",
   "execution_count": 490,
   "metadata": {
    "collapsed": true
   },
   "outputs": [],
   "source": [
    "def sim_choice(S, M, w_vec, time_steps, noise):\n",
    "    \"\"\"\n",
    "    Function to simulate choices based on:\n",
    "    S: Feedback Matrix\n",
    "    C: Contrast Matrix\n",
    "    w_vec: Attribute weight vector\n",
    "    time_steps: Number of time points to simulate (does not stop at a boundary)\n",
    "    noise: scale of noise value (e.g. 0.1)\n",
    "    \"\"\"\n",
    "    \n",
    "    length = time_steps\n",
    "    noise_scale = noise\n",
    "    options = M.shape[0]\n",
    "    id_mat = np.eye(options)\n",
    "    contrast_val = -1/(len(options) - 1)\n",
    "    C = np.full((len(options), len(options)), contrast_val)    # fills array with inhibitory val\n",
    "    np.fill_diagonal(C, 1) \n",
    "    \n",
    "    P = np.zeros((options,length))\n",
    "\n",
    "    for t in range(1,length):\n",
    "\n",
    "        # randomly assign attention, based on attribute weights\n",
    "        i = np.random.choice([0,1,2], 1, p=w_vec)\n",
    "        w_vec_t = id_mat[i]\n",
    "\n",
    "        # note that we are taking the first two columns of w_vec_t to create the vector\n",
    "        # representing non-noise attention\n",
    "        P[:,t] = S.dot(P[:,t-1]) + (C.dot(M_1).dot(w_vec_t[0,0:2]) \\\n",
    "                                    + np.random.normal(0,noise_scale) * w_vec_t[0,2]) # noise\n",
    "    \n",
    "    return P"
   ]
  },
  {
   "cell_type": "markdown",
   "metadata": {},
   "source": [
    "---\n",
    "\n",
    "**Calculate** a time series based on:\n",
    "\n",
    "1. w_vec_t\n",
    "2. M_1\n",
    "3. S\n",
    "\n",
    "---"
   ]
  },
  {
   "cell_type": "code",
   "execution_count": 425,
   "metadata": {},
   "outputs": [],
   "source": [
    "P = sim_choice(S, C, M_1, w_vec, 100, 0.2)"
   ]
  },
  {
   "cell_type": "markdown",
   "metadata": {},
   "source": [
    "---\n",
    "\n",
    "**Plot** the time series for this single choice\n",
    "\n",
    "---"
   ]
  },
  {
   "cell_type": "code",
   "execution_count": 426,
   "metadata": {
    "scrolled": false
   },
   "outputs": [
    {
     "data": {
      "image/png": "[encoded data removed]",
      "text/plain": [
       "<matplotlib.figure.Figure at 0x11215cda0>"
      ]
     },
     "metadata": {},
     "output_type": "display_data"
    }
   ],
   "source": [
    "fig = plt.figure(figsize=(12,6))\n",
    "ax = fig.add_subplot(111)\n",
    "\n",
    "ax.plot(P[0,:], linewidth=1.0)\n",
    "ax.plot(P[1,:], linewidth=1.0)\n",
    "ax.plot(P[2,:], linewidth=1.0)\n",
    "\n",
    "ax.legend(['Car A', 'Car S', 'Car B'], loc='upper left')\n",
    "\n",
    "ax.set_xlabel('t')\n",
    "ax.set_ylabel('P')\n",
    "\n",
    "ax.set_title('Time series for P value')\n",
    "\n",
    "plt.show()"
   ]
  },
  {
   "cell_type": "markdown",
   "metadata": {},
   "source": [
    "Function to calculate numerous simulations"
   ]
  },
  {
   "cell_type": "code",
   "execution_count": 518,
   "metadata": {},
   "outputs": [],
   "source": [
    "def sim_choice_many(S, M, w_vec, time_steps, noise, sim_num=1):\n",
    "    \"\"\"\n",
    "    Function to simulate choices based on:\n",
    "    S: Feedback Matrix\n",
    "    C: Contrast Matrix\n",
    "    w_vec: Attribute weight vector\n",
    "    time_steps: Number of time points to simulate (does not stop at a boundary)\n",
    "    noise: scale of noise value (e.g. 0.1)\n",
    "    sim_num: how many simulations to conduct\n",
    "    \"\"\"\n",
    "    \n",
    "    length = time_steps\n",
    "    noise_scale = noise\n",
    "    options = M.shape[0]\n",
    "    id_mat = np.eye(options)\n",
    "    contrast_val = -1/(options - 1)\n",
    "    C = np.full((options, options), contrast_val)    # fills array with inhibitory val\n",
    "    np.fill_diagonal(C, 1) \n",
    "    \n",
    "    P = np.zeros((options,length,sim_num))\n",
    "    \n",
    "    for i in range(0,sim_num):\n",
    "        for t in range(1,length):\n",
    "\n",
    "            # randomly assign attention, based on attribute weights\n",
    "            j = np.random.choice([0,1,2], 1, p=w_vec)\n",
    "            w_vec_t = id_mat[j]\n",
    "\n",
    "            # note that we are taking the first two columns of w_vec_t to create the vector\n",
    "            # representing non-noise attention\n",
    "            P[:,t,i] = S.dot(P[:,t-1,i]) + (C.dot(M_1).dot(w_vec_t[0,0:2]) \\\n",
    "                                            + np.random.normal(0,noise_scale) * w_vec_t[0,2]) # noise\n",
    "\n",
    "    return P"
   ]
  },
  {
   "cell_type": "markdown",
   "metadata": {},
   "source": [
    "---\n",
    "\n",
    "Find proportion of each option that is chosen at any given time step.\n",
    "\n",
    "---"
   ]
  },
  {
   "cell_type": "code",
   "execution_count": 519,
   "metadata": {},
   "outputs": [],
   "source": [
    "x = sim_choice_many(S, M_1, w_vec, 100, 3, 1000)"
   ]
  },
  {
   "cell_type": "code",
   "execution_count": 520,
   "metadata": {},
   "outputs": [
    {
     "data": {
      "image/png": "[encoded data removed]",
      "text/plain": [
       "<matplotlib.figure.Figure at 0x1120aa4e0>"
      ]
     },
     "metadata": {},
     "output_type": "display_data"
    }
   ],
   "source": [
    "# Look at individual sim\n",
    "\n",
    "sim = 60\n",
    "\n",
    "fig = plt.figure(figsize=(12,6))\n",
    "ax = fig.add_subplot(111)\n",
    "\n",
    "ax.plot(x[0,:,sim], linewidth=1.0)\n",
    "ax.plot(x[1,:,sim], linewidth=1.0)\n",
    "ax.plot(x[2,:,sim], linewidth=1.0)\n",
    "\n",
    "ax.legend(['Car A', 'Car S', 'Car B'], loc='upper left')\n",
    "\n",
    "ax.set_xlabel('t')\n",
    "ax.set_ylabel('P')\n",
    "\n",
    "ax.set_title('Time series for P value')\n",
    "\n",
    "plt.show()"
   ]
  },
  {
   "cell_type": "markdown",
   "metadata": {},
   "source": [
    "Calculate likelihood of selection at each time step based on sims"
   ]
  },
  {
   "cell_type": "code",
   "execution_count": 521,
   "metadata": {},
   "outputs": [],
   "source": [
    "def choice_likelihood(sims, M, time_steps):\n",
    "    options = M.shape[0]\n",
    "    length = time_steps\n",
    "    sim_num = sims.shape[2]\n",
    "    \n",
    "    choose_array = np.zeros((options, length))\n",
    "\n",
    "    # count number of occurences when each option was the preferred option at any given time point\n",
    "    for i in range(1,length):\n",
    "        count = np.array(sims[:,i,:]).argmax(0)\n",
    "        frequency = Counter(count)\n",
    "        choose_array[0,i] = frequency[0]/sim_num    # A\n",
    "        choose_array[1,i] = frequency[1]/sim_num    # S\n",
    "        choose_array[2,i] = frequency[2]/sim_num    # B\n",
    "    \n",
    "    return choose_array"
   ]
  },
  {
   "cell_type": "code",
   "execution_count": 522,
   "metadata": {
    "collapsed": true
   },
   "outputs": [],
   "source": [
    "choices = choice_likelihood(x, M_1, 100)"
   ]
  },
  {
   "cell_type": "code",
   "execution_count": 523,
   "metadata": {},
   "outputs": [
    {
     "data": {
      "image/png": "[encoded data removed]",
      "text/plain": [
       "<matplotlib.figure.Figure at 0x1142dab38>"
      ]
     },
     "metadata": {},
     "output_type": "display_data"
    }
   ],
   "source": [
    "# Look at choice probabilities\n",
    "\n",
    "fig = plt.figure(figsize=(12,6))\n",
    "ax = fig.add_subplot(111)\n",
    "\n",
    "ax.plot(choices[0,:], linewidth=1.0)    # A\n",
    "ax.plot(choices[1,:], linewidth=1.0)    # S\n",
    "ax.plot(choices[2,:], linewidth=1.0)    # B\n",
    "\n",
    "ax.legend(['Car A', 'Car S', 'Car B'], loc='upper left')\n",
    "\n",
    "ax.set_xlabel('t')\n",
    "ax.set_ylabel('Probaility of selection')\n",
    "\n",
    "ax.set_title('P of choice by Car')\n",
    "\n",
    "plt.show()"
   ]
  },
  {
   "cell_type": "markdown",
   "metadata": {},
   "source": [
    "Alternate function\n",
    "\n",
    "---\n",
    "\n",
    "Calculate noise differently\n",
    "\n",
    "* get rid of weight to 'secondary attributes', as Busemeyer seems to do this in his more recent code\n",
    "* add noise at each timestep\n",
    "\n",
    "Busemeyer used `exp(0.0007)` for his noise term which computes to 1.0007. Not sure why he does it this way?"
   ]
  },
  {
   "cell_type": "markdown",
   "metadata": {},
   "source": [
    "**New Weights**"
   ]
  },
  {
   "cell_type": "code",
   "execution_count": 534,
   "metadata": {},
   "outputs": [
    {
     "data": {
      "text/plain": [
       "array([ 0.49,  0.51])"
      ]
     },
     "execution_count": 534,
     "metadata": {},
     "output_type": "execute_result"
    }
   ],
   "source": [
    "w_q = 0.51\n",
    "w_e = 0.49\n",
    "\n",
    "# Make a vector of weights (no noise weight)\n",
    "\n",
    "w_vec_new = np.array([w_e, w_q])\n",
    "w_vec_new"
   ]
  },
  {
   "cell_type": "markdown",
   "metadata": {},
   "source": [
    "**New Function**"
   ]
  },
  {
   "cell_type": "code",
   "execution_count": 535,
   "metadata": {},
   "outputs": [],
   "source": [
    "def sim_choice_many(S, M, w_vec, time_steps, noise, sim_num=1):\n",
    "    \"\"\"\n",
    "    Function to simulate choices based on:\n",
    "    S: Feedback Matrix\n",
    "    C: Contrast Matrix\n",
    "    w_vec: Attribute weight vector\n",
    "    time_steps: Number of time points to simulate (does not stop at a boundary)\n",
    "    noise: scale of noise value (e.g. 0.1)\n",
    "    sim_num: how many simulations to conduct\n",
    "    \"\"\"\n",
    "    \n",
    "    length = time_steps\n",
    "    noise_scale = noise\n",
    "    options = M.shape[0]\n",
    "    id_mat = np.eye(2)\n",
    "    contrast_val = -1/(options - 1)\n",
    "    C = np.full((options, options), contrast_val)    # fills array with inhibitory val\n",
    "    np.fill_diagonal(C, 1) \n",
    "    \n",
    "    P = np.zeros((options,length,sim_num))\n",
    "    \n",
    "    for i in range(0,sim_num):\n",
    "        for t in range(1,length):\n",
    "\n",
    "            # randomly assign attention, based on attribute weights\n",
    "            j = np.random.choice([0,1], 1, p=w_vec)\n",
    "            w_vec_t = id_mat[j]\n",
    "\n",
    "            # note that we are taking the first two columns of w_vec_t to create the vector\n",
    "            # representing non-noise attention\n",
    "            P[:,t,i] = S.dot(P[:,t-1,i]) + (C.dot(M_1).dot(w_vec_t[0,0:2]) \\\n",
    "                                            + np.random.normal(0,noise, size=(3))) # noise\n",
    "\n",
    "    return P"
   ]
  },
  {
   "cell_type": "code",
   "execution_count": 537,
   "metadata": {},
   "outputs": [],
   "source": [
    "similarity_1 = sim_choice_many(S, M_1, w_vec_new, 100, 1, 1000)"
   ]
  },
  {
   "cell_type": "code",
   "execution_count": 538,
   "metadata": {
    "collapsed": true
   },
   "outputs": [],
   "source": [
    "choices = choice_likelihood(similarity_1, M_1, 100)"
   ]
  },
  {
   "cell_type": "code",
   "execution_count": 500,
   "metadata": {},
   "outputs": [
    {
     "data": {
      "image/png": "[encoded data removed]",
      "text/plain": [
       "<matplotlib.figure.Figure at 0x111e4feb8>"
      ]
     },
     "metadata": {},
     "output_type": "display_data"
    }
   ],
   "source": [
    "# Choice likelihoods\n",
    "\n",
    "fig = plt.figure(figsize=(12,6))\n",
    "ax = fig.add_subplot(111)\n",
    "\n",
    "ax.plot(choices[0,:], linewidth=1.0)    # A\n",
    "ax.plot(choices[1,:], linewidth=1.0)    # S\n",
    "ax.plot(choices[2,:], linewidth=1.0)    # B\n",
    "\n",
    "ax.legend(['Car A', 'Car S', 'Car B'], loc='upper left')\n",
    "\n",
    "ax.set_xlabel('t')\n",
    "ax.set_ylabel('Probaility of selection')\n",
    "\n",
    "ax.set_title('P of choice by Car')\n",
    "\n",
    "plt.show()"
   ]
  },
  {
   "cell_type": "markdown",
   "metadata": {},
   "source": [
    "Car B is the most likely choice.\n",
    "\n",
    "The two similar vehicles (A and S) are both less popular choices, with S outperforming B because:\n",
    "\n",
    "* it has a higher quality value and the attention weighting is slightly biased to quality\n",
    "* it has a slightly higher combined value across attributes (4.05 vs 4)\n",
    "\n",
    "Recall the values of the vehicles:"
   ]
  },
  {
   "cell_type": "code",
   "execution_count": 464,
   "metadata": {},
   "outputs": [
    {
     "data": {
      "text/html": [
       "<div>\n",
       "<style scoped>\n",
       "    .dataframe tbody tr th:only-of-type {\n",
       "        vertical-align: middle;\n",
       "    }\n",
       "\n",
       "    .dataframe tbody tr th {\n",
       "        vertical-align: top;\n",
       "    }\n",
       "\n",
       "    .dataframe thead th {\n",
       "        text-align: right;\n",
       "    }\n",
       "</style>\n",
       "<table border=\"1\" class=\"dataframe\">\n",
       "  <thead>\n",
       "    <tr style=\"text-align: right;\">\n",
       "      <th></th>\n",
       "      <th>Economy</th>\n",
       "      <th>Quality</th>\n",
       "    </tr>\n",
       "    <tr>\n",
       "      <th>Car</th>\n",
       "      <th></th>\n",
       "      <th></th>\n",
       "    </tr>\n",
       "  </thead>\n",
       "  <tbody>\n",
       "    <tr>\n",
       "      <th>A</th>\n",
       "      <td>1.00</td>\n",
       "      <td>3.0</td>\n",
       "    </tr>\n",
       "    <tr>\n",
       "      <th>S</th>\n",
       "      <td>0.85</td>\n",
       "      <td>3.2</td>\n",
       "    </tr>\n",
       "    <tr>\n",
       "      <th>B</th>\n",
       "      <td>3.00</td>\n",
       "      <td>1.0</td>\n",
       "    </tr>\n",
       "  </tbody>\n",
       "</table>\n",
       "</div>"
      ],
      "text/plain": [
       "     Economy  Quality\n",
       "Car                  \n",
       "A       1.00      3.0\n",
       "S       0.85      3.2\n",
       "B       3.00      1.0"
      ]
     },
     "execution_count": 464,
     "metadata": {},
     "output_type": "execute_result"
    }
   ],
   "source": [
    "M_1"
   ]
  },
  {
   "cell_type": "markdown",
   "metadata": {},
   "source": [
    "**Binary Choice**\n",
    "\n",
    "---\n",
    "\n",
    "As in the paper, a binary choice between A and B would give the following."
   ]
  },
  {
   "cell_type": "code",
   "execution_count": 466,
   "metadata": {},
   "outputs": [
    {
     "data": {
      "text/html": [
       "<div>\n",
       "<style scoped>\n",
       "    .dataframe tbody tr th:only-of-type {\n",
       "        vertical-align: middle;\n",
       "    }\n",
       "\n",
       "    .dataframe tbody tr th {\n",
       "        vertical-align: top;\n",
       "    }\n",
       "\n",
       "    .dataframe thead th {\n",
       "        text-align: right;\n",
       "    }\n",
       "</style>\n",
       "<table border=\"1\" class=\"dataframe\">\n",
       "  <thead>\n",
       "    <tr style=\"text-align: right;\">\n",
       "      <th></th>\n",
       "      <th>Economy</th>\n",
       "      <th>Quality</th>\n",
       "    </tr>\n",
       "    <tr>\n",
       "      <th>Car</th>\n",
       "      <th></th>\n",
       "      <th></th>\n",
       "    </tr>\n",
       "  </thead>\n",
       "  <tbody>\n",
       "    <tr>\n",
       "      <th>A</th>\n",
       "      <td>1.0</td>\n",
       "      <td>3.0</td>\n",
       "    </tr>\n",
       "    <tr>\n",
       "      <th>B</th>\n",
       "      <td>3.0</td>\n",
       "      <td>1.0</td>\n",
       "    </tr>\n",
       "  </tbody>\n",
       "</table>\n",
       "</div>"
      ],
      "text/plain": [
       "     Economy  Quality\n",
       "Car                  \n",
       "A        1.0      3.0\n",
       "B        3.0      1.0"
      ]
     },
     "execution_count": 466,
     "metadata": {},
     "output_type": "execute_result"
    }
   ],
   "source": [
    "M_Binary = M_1.drop(M_1.index[1])\n",
    "M_Binary"
   ]
  },
  {
   "cell_type": "code",
   "execution_count": null,
   "metadata": {
    "collapsed": true
   },
   "outputs": [],
   "source": [
    "binary_choice = sim_choice_many(S_Binary, M_Binary, w_vec_new, 100, 1, 100)"
   ]
  },
  {
   "cell_type": "code",
   "execution_count": 505,
   "metadata": {},
   "outputs": [
    {
     "data": {
      "text/plain": [
       "array([ 0.51,  0.49])"
      ]
     },
     "execution_count": 505,
     "metadata": {},
     "output_type": "execute_result"
    }
   ],
   "source": [
    "w_vec_new"
   ]
  },
  {
   "cell_type": "code",
   "execution_count": 533,
   "metadata": {},
   "outputs": [
    {
     "data": {
      "text/html": [
       "<div>\n",
       "<style scoped>\n",
       "    .dataframe tbody tr th:only-of-type {\n",
       "        vertical-align: middle;\n",
       "    }\n",
       "\n",
       "    .dataframe tbody tr th {\n",
       "        vertical-align: top;\n",
       "    }\n",
       "\n",
       "    .dataframe thead th {\n",
       "        text-align: right;\n",
       "    }\n",
       "</style>\n",
       "<table border=\"1\" class=\"dataframe\">\n",
       "  <thead>\n",
       "    <tr style=\"text-align: right;\">\n",
       "      <th></th>\n",
       "      <th>Economy</th>\n",
       "      <th>Quality</th>\n",
       "    </tr>\n",
       "    <tr>\n",
       "      <th>Car</th>\n",
       "      <th></th>\n",
       "      <th></th>\n",
       "    </tr>\n",
       "  </thead>\n",
       "  <tbody>\n",
       "    <tr>\n",
       "      <th>A</th>\n",
       "      <td>1.0</td>\n",
       "      <td>0.0</td>\n",
       "    </tr>\n",
       "    <tr>\n",
       "      <th>B</th>\n",
       "      <td>3.0</td>\n",
       "      <td>0.0</td>\n",
       "    </tr>\n",
       "  </tbody>\n",
       "</table>\n",
       "</div>"
      ],
      "text/plain": [
       "     Economy  Quality\n",
       "Car                  \n",
       "A        1.0      0.0\n",
       "B        3.0      0.0"
      ]
     },
     "execution_count": 533,
     "metadata": {},
     "output_type": "execute_result"
    }
   ],
   "source": [
    "w_vec_test = np.array([0.98, 0.02])\n",
    "np.random.choice([0,1], 1, p=w_vec_test)\n",
    "w_vec_t = id_mat[j]\n",
    "\n",
    "w_vec_t * M_Binary"
   ]
  },
  {
   "cell_type": "code",
   "execution_count": 504,
   "metadata": {},
   "outputs": [
    {
     "data": {
      "text/plain": [
       "array([[ 0.94 , -0.001],\n",
       "       [-0.001,  0.94 ]])"
      ]
     },
     "execution_count": 504,
     "metadata": {},
     "output_type": "execute_result"
    }
   ],
   "source": [
    "self = 0.94\n",
    "inhibitory = -0.001\n",
    "\n",
    "S_Binary = np.full((2,2), inhibitory)    # fills array with inhibitory val\n",
    "np.fill_diagonal(S, self)                                # ovewrite diag with self (in place)\n",
    "\n",
    "S_Binary"
   ]
  },
  {
   "cell_type": "code",
   "execution_count": 475,
   "metadata": {},
   "outputs": [
    {
     "data": {
      "text/plain": [
       "(3, 100, 10000)"
      ]
     },
     "execution_count": 475,
     "metadata": {},
     "output_type": "execute_result"
    }
   ],
   "source": [
    "binary_choice.shape"
   ]
  },
  {
   "cell_type": "code",
   "execution_count": 470,
   "metadata": {
    "collapsed": true
   },
   "outputs": [],
   "source": [
    "def choice_likelihood_binary(sims, M, time_steps):\n",
    "    options = M.shape[0]\n",
    "    length = time_steps\n",
    "\n",
    "    choose_array = np.zeros((options, length))\n",
    "\n",
    "    # count number of occurences when each option was the preferred option at any given time point\n",
    "    for i in range(1,length):\n",
    "        count = np.array(sims[:,i,:]).argmax(0)\n",
    "        frequency = Counter(count)\n",
    "        choose_array[0,i] = frequency[0]/sim_num    # A\n",
    "        choose_array[1,i] = frequency[1]/sim_num    # B\n",
    "    \n",
    "    return choose_array"
   ]
  },
  {
   "cell_type": "code",
   "execution_count": 471,
   "metadata": {},
   "outputs": [],
   "source": [
    "choices = choice_likelihood_binary(x, M_Binary, 100)"
   ]
  },
  {
   "cell_type": "code",
   "execution_count": 474,
   "metadata": {},
   "outputs": [
    {
     "data": {
      "text/plain": [
       "(2, 100)"
      ]
     },
     "execution_count": 474,
     "metadata": {},
     "output_type": "execute_result"
    }
   ],
   "source": [
    "choices.shape"
   ]
  },
  {
   "cell_type": "code",
   "execution_count": null,
   "metadata": {
    "collapsed": true
   },
   "outputs": [],
   "source": [
    "np.random.choice([0,1], 1, p=w_vec)\n",
    "            w_vec_t = id_mat[j]"
   ]
  },
  {
   "cell_type": "code",
   "execution_count": null,
   "metadata": {
    "collapsed": true
   },
   "outputs": [],
   "source": []
  },
  {
   "cell_type": "code",
   "execution_count": null,
   "metadata": {
    "collapsed": true
   },
   "outputs": [],
   "source": []
  },
  {
   "cell_type": "code",
   "execution_count": null,
   "metadata": {
    "collapsed": true
   },
   "outputs": [],
   "source": []
  },
  {
   "cell_type": "code",
   "execution_count": 472,
   "metadata": {},
   "outputs": [
    {
     "data": {
      "image/png": "[encoded data removed]",
      "text/plain": [
       "<matplotlib.figure.Figure at 0x112bb0710>"
      ]
     },
     "metadata": {},
     "output_type": "display_data"
    }
   ],
   "source": [
    "# Choice likelihoods\n",
    "\n",
    "fig = plt.figure(figsize=(12,6))\n",
    "ax = fig.add_subplot(111)\n",
    "\n",
    "ax.plot(choices[0,:], linewidth=1.0)    # A\n",
    "ax.plot(choices[1,:], linewidth=1.0)    # B\n",
    "\n",
    "ax.legend(['Car A', 'Car B'], loc='upper left')\n",
    "\n",
    "ax.set_xlabel('t')\n",
    "ax.set_ylabel('Probaility of selection')\n",
    "\n",
    "ax.set_title('P of choice by Car')\n",
    "\n",
    "plt.show()"
   ]
  },
  {
   "cell_type": "code",
   "execution_count": null,
   "metadata": {
    "collapsed": true
   },
   "outputs": [],
   "source": []
  },
  {
   "cell_type": "code",
   "execution_count": null,
   "metadata": {
    "collapsed": true
   },
   "outputs": [],
   "source": []
  },
  {
   "cell_type": "markdown",
   "metadata": {
    "collapsed": true
   },
   "source": [
    "Create Choice Matrices\n",
    "\n",
    "---\n",
    "\n",
    "Based off of code from [Busemeyer](http://mypage.iu.edu/~jbusemey/lab/Dec_prg.htm)"
   ]
  },
  {
   "cell_type": "code",
   "execution_count": 18,
   "metadata": {
    "collapsed": true
   },
   "outputs": [],
   "source": [
    "M = {}    # make empty dict"
   ]
  },
  {
   "cell_type": "markdown",
   "metadata": {},
   "source": [
    "Create arrays with examples of:\n",
    "\n",
    "- simulation\n",
    "- competition\n",
    "- attraction\n",
    "- dominance\n",
    "\n",
    "---\n",
    "\n",
    "Note: Each array represents **THREE** options with **TWO** attributes."
   ]
  },
  {
   "cell_type": "code",
   "execution_count": 19,
   "metadata": {
    "collapsed": true
   },
   "outputs": [],
   "source": [
    "# maybe make labeled dataframes (with option names and attribute names)\n",
    "\n",
    "M['sim_1'] = np.array([[1,3], [3,1], [.9, 3.1]])\n",
    "M['sim_2'] = np.array([[1,3], [3,1], [1.1, 2.9]])\n",
    "M['comp_1'] = np.array([[1,3], [3,1], [1.75, 2.25]])\n",
    "M['comp_2'] = np.array([[1,3], [3,1], [2, 2]])\n",
    "M['comp_3'] = np.array([[1,3], [3,1], [2.25, 1.75]])\n",
    "M['attr_1'] = np.array([[1,3], [3,1], [.5, 2.5]])\n",
    "M['attr_2'] = np.array([[1,3], [3,1], [1.1, 2.5]])\n",
    "M['dom_1'] = np.array([[1,3], [3,1], [2, 2]])\n",
    "M['dom_2'] = np.array([[1,3], [3,1], [1.25, 1.25]])\n",
    "M['dom_3'] = np.array([[1,3], [3,1], [2, 2]])"
   ]
  },
  {
   "cell_type": "code",
   "execution_count": 22,
   "metadata": {},
   "outputs": [
    {
     "data": {
      "text/plain": [
       "array([[1, 3],\n",
       "       [3, 1],\n",
       "       [2, 2]])"
      ]
     },
     "execution_count": 22,
     "metadata": {},
     "output_type": "execute_result"
    }
   ],
   "source": [
    "M['dom_1']"
   ]
  },
  {
   "cell_type": "code",
   "execution_count": null,
   "metadata": {
    "collapsed": true
   },
   "outputs": [],
   "source": []
  },
  {
   "cell_type": "code",
   "execution_count": null,
   "metadata": {
    "collapsed": true
   },
   "outputs": [],
   "source": []
  }
 ],
 "metadata": {
  "kernelspec": {
   "display_name": "Python [default]",
   "language": "python",
   "name": "python3"
  },
  "language_info": {
   "codemirror_mode": {
    "name": "ipython",
    "version": 3
   },
   "file_extension": ".py",
   "mimetype": "text/x-python",
   "name": "python",
   "nbconvert_exporter": "python",
   "pygments_lexer": "ipython3",
   "version": "3.6.1"
  },
  "toc": {
   "nav_menu": {},
   "number_sections": true,
   "sideBar": false,
   "skip_h1_title": false,
   "title_cell": "Table of Contents",
   "title_sidebar": "Contents",
   "toc_cell": true,
   "toc_position": {
    "height": "47px",
    "left": "1153px",
    "top": "106.5px",
    "width": "159px"
   },
   "toc_section_display": false,
   "toc_window_display": true
  }
 },
 "nbformat": 4,
 "nbformat_minor": 2
}
